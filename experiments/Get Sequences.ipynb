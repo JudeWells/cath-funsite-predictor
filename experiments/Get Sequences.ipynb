{
 "cells": [
  {
   "cell_type": "code",
   "execution_count": 4,
   "id": "faee5428",
   "metadata": {},
   "outputs": [],
   "source": [
    "import time\n",
    "import os\n",
    "import pandas as pd\n",
    "import Bio\n",
    "from Bio import Entrez,SeqIO"
   ]
  },
  {
   "cell_type": "code",
   "execution_count": 6,
   "id": "64a58a38",
   "metadata": {},
   "outputs": [],
   "source": [
    "results = {}"
   ]
  },
  {
   "cell_type": "code",
   "execution_count": 1,
   "id": "33713e77",
   "metadata": {},
   "outputs": [],
   "source": [
    "\n",
    "def add_sequence_to_dataset(input_path, output_path, results):\n",
    "    dfnew = pd.read_csv(input_path, delimiter='\\t')\n",
    "    for i, row in dfnew.iterrows():\n",
    "        pdbid = row.PDBID\n",
    "        chain = row.CHAIN\n",
    "        combined = (pdbid + chain).upper()\n",
    "        if combined in results:\n",
    "            continue\n",
    "        query=fr'{combined}[All Fields] AND pdb[filter]'\n",
    "        handle=Entrez.esearch(db=\"protein\", term=query)\n",
    "        records=Entrez.read(handle)\n",
    "        id_list=records['IdList']\n",
    "        #print(id_list)\n",
    "        handle.close()\n",
    "        if len(id_list) != 1:\n",
    "            print(f'search returned {len(id_list)} results')\n",
    "            continue\n",
    "        each_id = id_list[0]\n",
    "        fasta=Entrez.efetch(db=\"protein\", id=each_id, rettype=\"fasta\")\n",
    "        fasta_record=SeqIO.read(fasta, \"fasta\")\n",
    "        sequence = str(fasta_record.seq)\n",
    "        dfnew.loc[i, 'sequence'] = sequence\n",
    "        seq_dict = {combined: sequence}\n",
    "        results.update(seq_dict)\n",
    "        if i % 50 == 0:\n",
    "            print(i)\n",
    "            dfnew.to_csv(output_path, index=False)\n",
    "        time.sleep(0.34)\n",
    "    dfnew.to_csv(output_path, index=False)\n",
    "    "
   ]
  },
  {
   "cell_type": "code",
   "execution_count": 13,
   "id": "f6350ec0",
   "metadata": {},
   "outputs": [
    {
     "data": {
      "text/plain": [
       "469"
      ]
     },
     "execution_count": 13,
     "metadata": {},
     "output_type": "execute_result"
    }
   ],
   "source": [
    "df = pd.read_csv(val_data_path, delimiter='\\t')\n",
    "len(df)"
   ]
  },
  {
   "cell_type": "code",
   "execution_count": 9,
   "id": "7fa5701f",
   "metadata": {},
   "outputs": [
    {
     "name": "stderr",
     "output_type": "stream",
     "text": [
      "/Library/Frameworks/Python.framework/Versions/3.9/lib/python3.9/site-packages/Bio/Entrez/__init__.py:658: UserWarning: \n",
      "Email address is not specified.\n",
      "\n",
      "To make use of NCBI's E-utilities, NCBI requires you to specify your\n",
      "email address with each request.  As an example, if your email address\n",
      "is A.N.Other@example.com, you can specify it as follows:\n",
      "   from Bio import Entrez\n",
      "   Entrez.email = 'A.N.Other@example.com'\n",
      "In case of excessive usage of the E-utilities, NCBI will attempt to contact\n",
      "a user at the email address provided before blocking access to the\n",
      "E-utilities.\n",
      "  warnings.warn(\n"
     ]
    },
    {
     "name": "stdout",
     "output_type": "stream",
     "text": [
      "0\n",
      "50\n",
      "100\n",
      "150\n",
      "200\n",
      "250\n",
      "300\n",
      "350\n",
      "400\n",
      "450\n"
     ]
    }
   ],
   "source": [
    "val_data_path = '../datasets/PPI/NEEL-generated_dataset/PPI_validation_dataset_NS.tsv'\n",
    "add_sequence_to_dataset(val_data_path, 'PPI_val_w_sequences.csv', results=results)"
   ]
  },
  {
   "cell_type": "code",
   "execution_count": 3,
   "id": "5931956d",
   "metadata": {},
   "outputs": [],
   "source": [
    "dft = pd.read_csv('../datasets/PPI/PPI_training_dataset.csv')"
   ]
  },
  {
   "cell_type": "code",
   "execution_count": 3,
   "id": "c84af34f",
   "metadata": {},
   "outputs": [
    {
     "data": {
      "text/plain": [
       "['PPI_validation_dataset_NS.tsv', 'PPI_training_dataset_NS.tsv']"
      ]
     },
     "execution_count": 3,
     "metadata": {},
     "output_type": "execute_result"
    }
   ],
   "source": [
    "os.listdir('../datasets/PPI/NEEL-generated_dataset/')"
   ]
  },
  {
   "cell_type": "code",
   "execution_count": 3,
   "id": "d8b813ae",
   "metadata": {},
   "outputs": [
    {
     "data": {
      "text/html": [
       "<div>\n",
       "<style scoped>\n",
       "    .dataframe tbody tr th:only-of-type {\n",
       "        vertical-align: middle;\n",
       "    }\n",
       "\n",
       "    .dataframe tbody tr th {\n",
       "        vertical-align: top;\n",
       "    }\n",
       "\n",
       "    .dataframe thead th {\n",
       "        text-align: right;\n",
       "    }\n",
       "</style>\n",
       "<table border=\"1\" class=\"dataframe\">\n",
       "  <thead>\n",
       "    <tr style=\"text-align: right;\">\n",
       "      <th></th>\n",
       "      <th>PDBID</th>\n",
       "      <th>CHAIN</th>\n",
       "      <th>PDB_RESIDUE_NO</th>\n",
       "    </tr>\n",
       "  </thead>\n",
       "  <tbody>\n",
       "    <tr>\n",
       "      <th>0</th>\n",
       "      <td>4dmb</td>\n",
       "      <td>B</td>\n",
       "      <td>150,153,157,22,190,61,117,67,68,24,25,27,20,21...</td>\n",
       "    </tr>\n",
       "    <tr>\n",
       "      <th>1</th>\n",
       "      <td>1yt5</td>\n",
       "      <td>D</td>\n",
       "      <td>8,210,212,149,164,131,124,125,184,127,252,165,...</td>\n",
       "    </tr>\n",
       "    <tr>\n",
       "      <th>2</th>\n",
       "      <td>4e5w</td>\n",
       "      <td>A</td>\n",
       "      <td>1043,1095,1041,1040,1054,1055,1056,1096,1098,1...</td>\n",
       "    </tr>\n",
       "    <tr>\n",
       "      <th>3</th>\n",
       "      <td>4dgl</td>\n",
       "      <td>B</td>\n",
       "      <td>199,200,197,134,191,190,193,192,89,111,110,113...</td>\n",
       "    </tr>\n",
       "    <tr>\n",
       "      <th>4</th>\n",
       "      <td>3n2n</td>\n",
       "      <td>A</td>\n",
       "      <td>217,214,213,210,211,195,190,218,132,136,135,13...</td>\n",
       "    </tr>\n",
       "  </tbody>\n",
       "</table>\n",
       "</div>"
      ],
      "text/plain": [
       "  PDBID CHAIN                                     PDB_RESIDUE_NO\n",
       "0  4dmb     B  150,153,157,22,190,61,117,67,68,24,25,27,20,21...\n",
       "1  1yt5     D  8,210,212,149,164,131,124,125,184,127,252,165,...\n",
       "2  4e5w     A  1043,1095,1041,1040,1054,1055,1056,1096,1098,1...\n",
       "3  4dgl     B  199,200,197,134,191,190,193,192,89,111,110,113...\n",
       "4  3n2n     A  217,214,213,210,211,195,190,218,132,136,135,13..."
      ]
     },
     "execution_count": 3,
     "metadata": {},
     "output_type": "execute_result"
    }
   ],
   "source": [
    "basedir = '../datasets/PPI/NEEL-generated_dataset/'\n",
    "dfnew = pd.read_csv(basedir+'PPI_training_dataset_NS.tsv',delimiter='\\t')\n",
    "dfnew.head()"
   ]
  },
  {
   "cell_type": "code",
   "execution_count": 47,
   "id": "5cdc1275",
   "metadata": {},
   "outputs": [
    {
     "data": {
      "text/plain": [
       "'CRAM[All Fields] AND pdb[filter]'"
      ]
     },
     "execution_count": 47,
     "metadata": {},
     "output_type": "execute_result"
    }
   ],
   "source": [
    "idt = 'cram'.upper()\n",
    "fr'{idt}[All Fields] AND pdb[filter]'\n"
   ]
  },
  {
   "cell_type": "code",
   "execution_count": 51,
   "id": "b1aec154",
   "metadata": {},
   "outputs": [
    {
     "data": {
      "text/plain": [
       "{'1REV|A': 'PISPIETVPVKLKPGMDGPKVKQWPLTEEKIKALVEICTEMEKEGKISKIGPENPYNTPVFAIKKKDSTKWRKLVDFRELNKRTQDFWEVQLGIPHPAGLKKKKSVTVLDVGDAYFSVPLDEDFRKYTAFTIPSINNETPGIRYQYNVLPQGWKGSPAIFQSSMTKILEPFRKQNPDIVIYQYMDDLYVGSDLEIGQHRTKIEELRQHLLRWGLTTPDKKHQKEPPFLWMGYELHPDKWTVQPIVLPEKDSWTVNDIQKLVGKLNWASQIYPGIKVRQLXKLLRGTKALTEVIPLTEEAELELAENREILKEPVHGVYYDPSKDLIAEIQKQGQGQWTYQIYQEPFKNLKTGKYARMRGAHTNDVKQLTEAVQKITTESIVIWGKTPKFKLPIQKETWETWWTEYWQATWIPEWEFVNTPPLVKLWYQLEKEPIVGAETFYVDGAANRETKLGKAGYVTNRGRQKVVTLTDTTNQKTELQAIYLALQDSGLEVNIVTDSQYALGIIQAQPDQSESELVNQIIEQLIKKEKVYLAWVPAHKGIGGNEQVDKLVSAGIRKVL'}"
      ]
     },
     "execution_count": 51,
     "metadata": {},
     "output_type": "execute_result"
    }
   ],
   "source": [
    "seq_dict"
   ]
  },
  {
   "cell_type": "code",
   "execution_count": null,
   "id": "d69f0952",
   "metadata": {},
   "outputs": [],
   "source": [
    "results = {}"
   ]
  },
  {
   "cell_type": "code",
   "execution_count": 78,
   "id": "e3c64257",
   "metadata": {},
   "outputs": [],
   "source": [
    "dfnew.to_csv('PPI_training_dataset_with_sequences.csv', index=False)"
   ]
  },
  {
   "cell_type": "code",
   "execution_count": 76,
   "id": "95cb6b3a",
   "metadata": {},
   "outputs": [
    {
     "name": "stdout",
     "output_type": "stream",
     "text": [
      "search returned 2 results\n",
      "search returned 0 results\n",
      "search returned 0 results\n",
      "600\n",
      "650\n",
      "700\n",
      "750\n",
      "800\n",
      "850\n",
      "900\n",
      "950\n",
      "1000\n",
      "1050\n",
      "1100\n",
      "1150\n",
      "1200\n",
      "search returned 2 results\n",
      "1250\n",
      "1300\n",
      "1350\n",
      "1400\n",
      "1450\n",
      "1500\n",
      "1550\n",
      "search returned 0 results\n",
      "search returned 0 results\n",
      "search returned 2 results\n",
      "1600\n",
      "1650\n",
      "1700\n",
      "1750\n"
     ]
    }
   ],
   "source": [
    "\n",
    "for i, row in dfnew.iterrows():\n",
    "    pdbid = row.PDBID\n",
    "    chain = row.CHAIN\n",
    "    combined = (pdbid + chain).upper()\n",
    "    if combined in results:\n",
    "        continue\n",
    "    query=fr'{combined}[All Fields] AND pdb[filter]'\n",
    "    handle=Entrez.esearch(db=\"protein\", term=query)\n",
    "    records=Entrez.read(handle)\n",
    "    id_list=records['IdList']\n",
    "    #print(id_list)\n",
    "    handle.close()\n",
    "    if len(id_list) != 1:\n",
    "        print(f'search returned {len(id_list)} results')\n",
    "        continue\n",
    "    each_id = id_list[0]\n",
    "    fasta=Entrez.efetch(db=\"protein\", id=each_id, rettype=\"fasta\")\n",
    "    fasta_record=SeqIO.read(fasta, \"fasta\")\n",
    "    sequence = str(fasta_record.seq)\n",
    "    dfnew.loc[i, 'sequence'] = sequence\n",
    "    seq_dict = {combined: sequence}\n",
    "    results.update(seq_dict)\n",
    "    if i % 50 == 0:\n",
    "        print(i)\n",
    "        dfnew.to_csv('PPI_training_dataset_with_sequences.csv', index=False)\n",
    "    time.sleep(0.34)\n",
    "dfnew.to_csv('PPI_training_dataset_with_sequences.csv', index=False)"
   ]
  }
 ],
 "metadata": {
  "kernelspec": {
   "display_name": "Python 3 (ipykernel)",
   "language": "python",
   "name": "python3"
  },
  "language_info": {
   "codemirror_mode": {
    "name": "ipython",
    "version": 3
   },
   "file_extension": ".py",
   "mimetype": "text/x-python",
   "name": "python",
   "nbconvert_exporter": "python",
   "pygments_lexer": "ipython3",
   "version": "3.9.4"
  }
 },
 "nbformat": 4,
 "nbformat_minor": 5
}
