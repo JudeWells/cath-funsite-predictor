{
 "cells": [
  {
   "cell_type": "code",
   "execution_count": 1,
   "metadata": {},
   "outputs": [],
   "source": [
    "import pandas as pd\n",
    "import os"
   ]
  },
  {
   "cell_type": "code",
   "execution_count": 2,
   "metadata": {},
   "outputs": [
    {
     "data": {
      "text/plain": [
       "['check_msas.py',\n",
       " 'missing_sequences.csv',\n",
       " '.ipynb_checkpoints',\n",
       " 'check MSAs.ipynb']"
      ]
     },
     "execution_count": 2,
     "metadata": {},
     "output_type": "execute_result"
    }
   ],
   "source": [
    "os.listdir('/home/jwells/Documents/ColabFold/experiment_notebooks')"
   ]
  },
  {
   "cell_type": "code",
   "execution_count": 3,
   "metadata": {},
   "outputs": [],
   "source": [
    "df = pd.read_csv('/home/jwells/Documents/ColabFold/experiment_notebooks/missing_sequences.csv')"
   ]
  },
  {
   "cell_type": "code",
   "execution_count": 4,
   "metadata": {},
   "outputs": [
    {
     "data": {
      "text/html": [
       "<div>\n",
       "<style scoped>\n",
       "    .dataframe tbody tr th:only-of-type {\n",
       "        vertical-align: middle;\n",
       "    }\n",
       "\n",
       "    .dataframe tbody tr th {\n",
       "        vertical-align: top;\n",
       "    }\n",
       "\n",
       "    .dataframe thead th {\n",
       "        text-align: right;\n",
       "    }\n",
       "</style>\n",
       "<table border=\"1\" class=\"dataframe\">\n",
       "  <thead>\n",
       "    <tr style=\"text-align: right;\">\n",
       "      <th></th>\n",
       "      <th>PDBID</th>\n",
       "      <th>CHAIN</th>\n",
       "      <th>PDB_RESIDUE_NO</th>\n",
       "      <th>combined</th>\n",
       "      <th>sequence</th>\n",
       "      <th>domain_id</th>\n",
       "    </tr>\n",
       "  </thead>\n",
       "  <tbody>\n",
       "    <tr>\n",
       "      <th>0</th>\n",
       "      <td>4u2r</td>\n",
       "      <td>A</td>\n",
       "      <td>64,239,69,235,80,81,93,236,226,104,105,97,149,...</td>\n",
       "      <td>4u2rA</td>\n",
       "      <td>GANKTVVVTTILESPYVMMKKNHEMLEGNERYEGYCVDLAAEIAKH...</td>\n",
       "      <td>4U2RA</td>\n",
       "    </tr>\n",
       "    <tr>\n",
       "      <th>1</th>\n",
       "      <td>2v08</td>\n",
       "      <td>A</td>\n",
       "      <td>25,26,65,17,58,</td>\n",
       "      <td>2v08A</td>\n",
       "      <td>DADLATGAKVFSANCAACHAGGINLVNAEKTLKKEALEKFGMNSIV...</td>\n",
       "      <td>2V08A</td>\n",
       "    </tr>\n",
       "    <tr>\n",
       "      <th>2</th>\n",
       "      <td>1sp4</td>\n",
       "      <td>A</td>\n",
       "      <td>28,29,24,25,26,27,20,21,48,23,46,47,44,45,42,4...</td>\n",
       "      <td>1sp4A</td>\n",
       "      <td>LPESFDAREQWPNCPTIKEIRDQGSCGSCWAFGAVEAISDRICIHSNG</td>\n",
       "      <td>1SP4A</td>\n",
       "    </tr>\n",
       "    <tr>\n",
       "      <th>3</th>\n",
       "      <td>1tpu</td>\n",
       "      <td>B</td>\n",
       "      <td>64,67,82,83,86,85,76,48,49,46,47,45,79,77,98,7...</td>\n",
       "      <td>1tpuB</td>\n",
       "      <td>APRKFFVGGNWKMNGDKKSLGELIHTLNGAKLSADTEVVCGAPSIY...</td>\n",
       "      <td>1TPUB</td>\n",
       "    </tr>\n",
       "    <tr>\n",
       "      <th>4</th>\n",
       "      <td>3n2y</td>\n",
       "      <td>A</td>\n",
       "      <td>216,39,212,210,207,209,208,303,40,218,224,221,...</td>\n",
       "      <td>3n2yA</td>\n",
       "      <td>MDEFEMIKRNTSEIISEEELREVLKKDEKSALIGFEPSGKIHLGHY...</td>\n",
       "      <td>3N2YA</td>\n",
       "    </tr>\n",
       "  </tbody>\n",
       "</table>\n",
       "</div>"
      ],
      "text/plain": [
       "  PDBID CHAIN                                     PDB_RESIDUE_NO combined  \\\n",
       "0  4u2r     A  64,239,69,235,80,81,93,236,226,104,105,97,149,...    4u2rA   \n",
       "1  2v08     A                                    25,26,65,17,58,    2v08A   \n",
       "2  1sp4     A  28,29,24,25,26,27,20,21,48,23,46,47,44,45,42,4...    1sp4A   \n",
       "3  1tpu     B  64,67,82,83,86,85,76,48,49,46,47,45,79,77,98,7...    1tpuB   \n",
       "4  3n2y     A  216,39,212,210,207,209,208,303,40,218,224,221,...    3n2yA   \n",
       "\n",
       "                                            sequence domain_id  \n",
       "0  GANKTVVVTTILESPYVMMKKNHEMLEGNERYEGYCVDLAAEIAKH...     4U2RA  \n",
       "1  DADLATGAKVFSANCAACHAGGINLVNAEKTLKKEALEKFGMNSIV...     2V08A  \n",
       "2   LPESFDAREQWPNCPTIKEIRDQGSCGSCWAFGAVEAISDRICIHSNG     1SP4A  \n",
       "3  APRKFFVGGNWKMNGDKKSLGELIHTLNGAKLSADTEVVCGAPSIY...     1TPUB  \n",
       "4  MDEFEMIKRNTSEIISEEELREVLKKDEKSALIGFEPSGKIHLGHY...     3N2YA  "
      ]
     },
     "execution_count": 4,
     "metadata": {},
     "output_type": "execute_result"
    }
   ],
   "source": [
    "df.head()"
   ]
  },
  {
   "cell_type": "code",
   "execution_count": 6,
   "metadata": {},
   "outputs": [
    {
     "data": {
      "text/plain": [
       "{'a', 'r', 't'}"
      ]
     },
     "execution_count": 6,
     "metadata": {},
     "output_type": "execute_result"
    }
   ],
   "source": [
    "set(list('raaat'))"
   ]
  },
  {
   "cell_type": "code",
   "execution_count": null,
   "metadata": {},
   "outputs": [],
   "source": [
    "success_df = "
   ]
  },
  {
   "cell_type": "code",
   "execution_count": 7,
   "metadata": {},
   "outputs": [],
   "source": [
    "amino = set()\n",
    "for i, row in df.iterrows():\n",
    "    amino.update(set(list(row.sequence)))\n",
    "    "
   ]
  },
  {
   "cell_type": "code",
   "execution_count": 12,
   "metadata": {},
   "outputs": [
    {
     "data": {
      "text/html": [
       "<div>\n",
       "<style scoped>\n",
       "    .dataframe tbody tr th:only-of-type {\n",
       "        vertical-align: middle;\n",
       "    }\n",
       "\n",
       "    .dataframe tbody tr th {\n",
       "        vertical-align: top;\n",
       "    }\n",
       "\n",
       "    .dataframe thead th {\n",
       "        text-align: right;\n",
       "    }\n",
       "</style>\n",
       "<table border=\"1\" class=\"dataframe\">\n",
       "  <thead>\n",
       "    <tr style=\"text-align: right;\">\n",
       "      <th></th>\n",
       "      <th>PDBID</th>\n",
       "      <th>CHAIN</th>\n",
       "      <th>PDB_RESIDUE_NO</th>\n",
       "      <th>combined</th>\n",
       "      <th>sequence</th>\n",
       "    </tr>\n",
       "  </thead>\n",
       "  <tbody>\n",
       "    <tr>\n",
       "      <th>0</th>\n",
       "      <td>4dmb</td>\n",
       "      <td>B</td>\n",
       "      <td>150,153,157,22,190,61,117,67,68,24,25,27,20,21...</td>\n",
       "      <td>4dmbB</td>\n",
       "      <td>XASVSSATFSGHGARSLLQFLRLVGQLKRVPRTGWVYRNVQRPESV...</td>\n",
       "    </tr>\n",
       "    <tr>\n",
       "      <th>2</th>\n",
       "      <td>4e5w</td>\n",
       "      <td>A</td>\n",
       "      <td>1043,1095,1041,1040,1054,1055,1056,1096,1098,1...</td>\n",
       "      <td>4e5wA</td>\n",
       "      <td>GDIVSEKKPATEVDPTHFEKRFLKRIRDLGEGHFGKVELCRYDPEG...</td>\n",
       "    </tr>\n",
       "    <tr>\n",
       "      <th>6</th>\n",
       "      <td>3axj</td>\n",
       "      <td>B</td>\n",
       "      <td>151,150,199,198,195,194,196,133,132,111,136,11...</td>\n",
       "      <td>3axjB</td>\n",
       "      <td>XPKNGGAGHRNTAPRKRQIPAAQLDEDSPIVQQFRIYSNELIXKHD...</td>\n",
       "    </tr>\n",
       "    <tr>\n",
       "      <th>16</th>\n",
       "      <td>3egi</td>\n",
       "      <td>A</td>\n",
       "      <td>742,745,669,667,666,665,701,693,731,730,734,75...</td>\n",
       "      <td>3egiA</td>\n",
       "      <td>GPLGSRLFSRFDDGIKLDREGWFSVTPEKIAEHIAGRVSQSFKCDV...</td>\n",
       "    </tr>\n",
       "    <tr>\n",
       "      <th>17</th>\n",
       "      <td>3etf</td>\n",
       "      <td>A</td>\n",
       "      <td>458,217,214,339,459,313,312,453,317,455,218,31...</td>\n",
       "      <td>3etfA</td>\n",
       "      <td>XTXXTATQALSVNPATGQTLAAXPWANAQEIEHALSLAASGFKKWK...</td>\n",
       "    </tr>\n",
       "    <tr>\n",
       "      <th>...</th>\n",
       "      <td>...</td>\n",
       "      <td>...</td>\n",
       "      <td>...</td>\n",
       "      <td>...</td>\n",
       "      <td>...</td>\n",
       "    </tr>\n",
       "    <tr>\n",
       "      <th>1752</th>\n",
       "      <td>1x7d</td>\n",
       "      <td>B</td>\n",
       "      <td>339,41,334,324,336,331,330,333,332,68,88,97,11...</td>\n",
       "      <td>1x7dB</td>\n",
       "      <td>MTYFIDVPTXSDLVHDIGVAPFIGELAAALRDDFKRWQAFDKSARV...</td>\n",
       "    </tr>\n",
       "    <tr>\n",
       "      <th>1766</th>\n",
       "      <td>1sxj</td>\n",
       "      <td>A</td>\n",
       "      <td>669,668,693,691,542,543,405,404,546,547,401,40...</td>\n",
       "      <td>1sxjA</td>\n",
       "      <td>MGSSHHHHHHSSGLEVLFQGPHMASDKLWTVKYAPTNLQQVCGNKG...</td>\n",
       "    </tr>\n",
       "    <tr>\n",
       "      <th>1772</th>\n",
       "      <td>3o65</td>\n",
       "      <td>A</td>\n",
       "      <td>178,98,68,62,116,97,65,67,82,174,86,48,119,44,...</td>\n",
       "      <td>3o65A</td>\n",
       "      <td>GXDFIFHEKQEGFLCAQHCLNNLLQGEYFSPVELASIAHQLDEEER...</td>\n",
       "    </tr>\n",
       "    <tr>\n",
       "      <th>1773</th>\n",
       "      <td>4gic</td>\n",
       "      <td>B</td>\n",
       "      <td>212,210,112,114,130,397,396,395,394,234,399,39...</td>\n",
       "      <td>4gicB</td>\n",
       "      <td>SXTEVKIKRLYTGDADFASQLDRLLAWSESEDTDIHQRVTEIIGCI...</td>\n",
       "    </tr>\n",
       "    <tr>\n",
       "      <th>1783</th>\n",
       "      <td>1yqc</td>\n",
       "      <td>A</td>\n",
       "      <td>36,60,137,35,113,82,80,138,86,85,20,21,22,49,4...</td>\n",
       "      <td>1yqcA</td>\n",
       "      <td>XKLQVLPLSQEAFSAYGDVIETQQRDFFHINNGLVERYHDLALVEI...</td>\n",
       "    </tr>\n",
       "  </tbody>\n",
       "</table>\n",
       "<p>299 rows × 5 columns</p>\n",
       "</div>"
      ],
      "text/plain": [
       "     PDBID CHAIN                                     PDB_RESIDUE_NO combined  \\\n",
       "0     4dmb     B  150,153,157,22,190,61,117,67,68,24,25,27,20,21...    4dmbB   \n",
       "2     4e5w     A  1043,1095,1041,1040,1054,1055,1056,1096,1098,1...    4e5wA   \n",
       "6     3axj     B  151,150,199,198,195,194,196,133,132,111,136,11...    3axjB   \n",
       "16    3egi     A  742,745,669,667,666,665,701,693,731,730,734,75...    3egiA   \n",
       "17    3etf     A  458,217,214,339,459,313,312,453,317,455,218,31...    3etfA   \n",
       "...    ...   ...                                                ...      ...   \n",
       "1752  1x7d     B  339,41,334,324,336,331,330,333,332,68,88,97,11...    1x7dB   \n",
       "1766  1sxj     A  669,668,693,691,542,543,405,404,546,547,401,40...    1sxjA   \n",
       "1772  3o65     A  178,98,68,62,116,97,65,67,82,174,86,48,119,44,...    3o65A   \n",
       "1773  4gic     B  212,210,112,114,130,397,396,395,394,234,399,39...    4gicB   \n",
       "1783  1yqc     A  36,60,137,35,113,82,80,138,86,85,20,21,22,49,4...    1yqcA   \n",
       "\n",
       "                                               sequence  \n",
       "0     XASVSSATFSGHGARSLLQFLRLVGQLKRVPRTGWVYRNVQRPESV...  \n",
       "2     GDIVSEKKPATEVDPTHFEKRFLKRIRDLGEGHFGKVELCRYDPEG...  \n",
       "6     XPKNGGAGHRNTAPRKRQIPAAQLDEDSPIVQQFRIYSNELIXKHD...  \n",
       "16    GPLGSRLFSRFDDGIKLDREGWFSVTPEKIAEHIAGRVSQSFKCDV...  \n",
       "17    XTXXTATQALSVNPATGQTLAAXPWANAQEIEHALSLAASGFKKWK...  \n",
       "...                                                 ...  \n",
       "1752  MTYFIDVPTXSDLVHDIGVAPFIGELAAALRDDFKRWQAFDKSARV...  \n",
       "1766  MGSSHHHHHHSSGLEVLFQGPHMASDKLWTVKYAPTNLQQVCGNKG...  \n",
       "1772  GXDFIFHEKQEGFLCAQHCLNNLLQGEYFSPVELASIAHQLDEEER...  \n",
       "1773  SXTEVKIKRLYTGDADFASQLDRLLAWSESEDTDIHQRVTEIIGCI...  \n",
       "1783  XKLQVLPLSQEAFSAYGDVIETQQRDFFHINNGLVERYHDLALVEI...  \n",
       "\n",
       "[299 rows x 5 columns]"
      ]
     },
     "execution_count": 12,
     "metadata": {},
     "output_type": "execute_result"
    }
   ],
   "source": [
    "full_df = pd.read_csv('/home/jwells/Documents/cath-funsite-predictor/PPI_training_dataset_with_sequences.csv')\n",
    "full_df[full_df.sequence.str.contains('X')]"
   ]
  },
  {
   "cell_type": "code",
   "execution_count": 13,
   "metadata": {},
   "outputs": [
    {
     "data": {
      "text/plain": [
       "0     263\n",
       "1      86\n",
       "2      48\n",
       "3     247\n",
       "4     314\n",
       "5     215\n",
       "6      81\n",
       "7     333\n",
       "8     365\n",
       "9     792\n",
       "10     64\n",
       "11    543\n",
       "12    415\n",
       "13    379\n",
       "14    212\n",
       "15    359\n",
       "16    228\n",
       "17    277\n",
       "18    392\n",
       "19    387\n",
       "20    153\n",
       "21    417\n",
       "22    253\n",
       "23    170\n",
       "Name: sequence, dtype: int64"
      ]
     },
     "execution_count": 13,
     "metadata": {},
     "output_type": "execute_result"
    }
   ],
   "source": [
    "df.sequence.apply(lambda x: len(x))"
   ]
  },
  {
   "cell_type": "code",
   "execution_count": 10,
   "metadata": {},
   "outputs": [
    {
     "data": {
      "text/plain": [
       "{'X'}"
      ]
     },
     "execution_count": 10,
     "metadata": {},
     "output_type": "execute_result"
    }
   ],
   "source": [
    "amino - set(list('GAVCPLIMWTFKRHSTYNQDE'))"
   ]
  },
  {
   "cell_type": "code",
   "execution_count": 8,
   "metadata": {},
   "outputs": [
    {
     "data": {
      "text/plain": [
       "{'A',\n",
       " 'C',\n",
       " 'D',\n",
       " 'E',\n",
       " 'F',\n",
       " 'G',\n",
       " 'H',\n",
       " 'I',\n",
       " 'K',\n",
       " 'L',\n",
       " 'M',\n",
       " 'N',\n",
       " 'P',\n",
       " 'Q',\n",
       " 'R',\n",
       " 'S',\n",
       " 'T',\n",
       " 'V',\n",
       " 'W',\n",
       " 'X',\n",
       " 'Y'}"
      ]
     },
     "execution_count": 8,
     "metadata": {},
     "output_type": "execute_result"
    }
   ],
   "source": [
    "amino"
   ]
  }
 ],
 "metadata": {
  "kernelspec": {
   "display_name": "Python 3",
   "language": "python",
   "name": "python3"
  },
  "language_info": {
   "codemirror_mode": {
    "name": "ipython",
    "version": 3
   },
   "file_extension": ".py",
   "mimetype": "text/x-python",
   "name": "python",
   "nbconvert_exporter": "python",
   "pygments_lexer": "ipython3",
   "version": "3.8.10"
  }
 },
 "nbformat": 4,
 "nbformat_minor": 4
}
