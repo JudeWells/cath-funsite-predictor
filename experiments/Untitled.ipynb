{
 "cells": [
  {
   "cell_type": "code",
   "execution_count": 1,
   "id": "b318e267",
   "metadata": {},
   "outputs": [],
   "source": [
    "import os\n",
    "import pandas as pd"
   ]
  },
  {
   "cell_type": "code",
   "execution_count": 2,
   "id": "ebcebe25",
   "metadata": {},
   "outputs": [],
   "source": [
    "basedir = '../datasets/PPI/NEEL-generated_dataset/'\n",
    "df = pd.read_csv(basedir+'PPI_training_dataset_NS.tsv',delimiter='\\t')"
   ]
  },
  {
   "cell_type": "code",
   "execution_count": 3,
   "id": "525bb060",
   "metadata": {},
   "outputs": [
    {
     "data": {
      "text/html": [
       "<div>\n",
       "<style scoped>\n",
       "    .dataframe tbody tr th:only-of-type {\n",
       "        vertical-align: middle;\n",
       "    }\n",
       "\n",
       "    .dataframe tbody tr th {\n",
       "        vertical-align: top;\n",
       "    }\n",
       "\n",
       "    .dataframe thead th {\n",
       "        text-align: right;\n",
       "    }\n",
       "</style>\n",
       "<table border=\"1\" class=\"dataframe\">\n",
       "  <thead>\n",
       "    <tr style=\"text-align: right;\">\n",
       "      <th></th>\n",
       "      <th>PDBID</th>\n",
       "      <th>CHAIN</th>\n",
       "      <th>PDB_RESIDUE_NO</th>\n",
       "    </tr>\n",
       "  </thead>\n",
       "  <tbody>\n",
       "    <tr>\n",
       "      <th>0</th>\n",
       "      <td>4dmb</td>\n",
       "      <td>B</td>\n",
       "      <td>150,153,157,22,190,61,117,67,68,24,25,27,20,21...</td>\n",
       "    </tr>\n",
       "    <tr>\n",
       "      <th>1</th>\n",
       "      <td>1yt5</td>\n",
       "      <td>D</td>\n",
       "      <td>8,210,212,149,164,131,124,125,184,127,252,165,...</td>\n",
       "    </tr>\n",
       "    <tr>\n",
       "      <th>2</th>\n",
       "      <td>4e5w</td>\n",
       "      <td>A</td>\n",
       "      <td>1043,1095,1041,1040,1054,1055,1056,1096,1098,1...</td>\n",
       "    </tr>\n",
       "    <tr>\n",
       "      <th>3</th>\n",
       "      <td>4dgl</td>\n",
       "      <td>B</td>\n",
       "      <td>199,200,197,134,191,190,193,192,89,111,110,113...</td>\n",
       "    </tr>\n",
       "    <tr>\n",
       "      <th>4</th>\n",
       "      <td>3n2n</td>\n",
       "      <td>A</td>\n",
       "      <td>217,214,213,210,211,195,190,218,132,136,135,13...</td>\n",
       "    </tr>\n",
       "  </tbody>\n",
       "</table>\n",
       "</div>"
      ],
      "text/plain": [
       "  PDBID CHAIN                                     PDB_RESIDUE_NO\n",
       "0  4dmb     B  150,153,157,22,190,61,117,67,68,24,25,27,20,21...\n",
       "1  1yt5     D  8,210,212,149,164,131,124,125,184,127,252,165,...\n",
       "2  4e5w     A  1043,1095,1041,1040,1054,1055,1056,1096,1098,1...\n",
       "3  4dgl     B  199,200,197,134,191,190,193,192,89,111,110,113...\n",
       "4  3n2n     A  217,214,213,210,211,195,190,218,132,136,135,13..."
      ]
     },
     "execution_count": 3,
     "metadata": {},
     "output_type": "execute_result"
    }
   ],
   "source": [
    "df.head()"
   ]
  },
  {
   "cell_type": "code",
   "execution_count": 6,
   "id": "099c5845",
   "metadata": {},
   "outputs": [
    {
     "data": {
      "text/plain": [
       "('4dmb',\n",
       " 'B',\n",
       " '150,153,157,22,190,61,117,67,68,24,25,27,20,21,48,47,44,45,28,29,182,183,186,187,146,149,75,72,71,15,59,14,55,54,51,52,18,')"
      ]
     },
     "execution_count": 6,
     "metadata": {},
     "output_type": "execute_result"
    }
   ],
   "source": [
    "df.iloc[0, 0], df.iloc[0, 1], df.iloc[0, 2]"
   ]
  }
 ],
 "metadata": {
  "kernelspec": {
   "display_name": "Python 3 (ipykernel)",
   "language": "python",
   "name": "python3"
  },
  "language_info": {
   "codemirror_mode": {
    "name": "ipython",
    "version": 3
   },
   "file_extension": ".py",
   "mimetype": "text/x-python",
   "name": "python",
   "nbconvert_exporter": "python",
   "pygments_lexer": "ipython3",
   "version": "3.9.4"
  }
 },
 "nbformat": 4,
 "nbformat_minor": 5
}
