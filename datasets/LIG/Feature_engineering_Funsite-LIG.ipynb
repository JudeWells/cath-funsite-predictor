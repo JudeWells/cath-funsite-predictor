{
 "cells": [
  {
   "cell_type": "code",
   "execution_count": 1,
   "metadata": {},
   "outputs": [],
   "source": [
    "import pandas as pd\n",
    "import numpy as np\n",
    "import warnings\n",
    "import seaborn as sns\n",
    "sns.despine()\n",
    "from scipy import interp\n",
    "from statistics import mean\n",
    "import matplotlib.pyplot as plt\n",
    "from collections import OrderedDict\n",
    "\n",
    "import sys\n",
    "sys.path.append('../../scripts')\n",
    "from helper_functions import *"
   ]
  },
  {
   "cell_type": "markdown",
   "metadata": {},
   "source": [
    "### Load LIG dataset generated from CATH FunFams"
   ]
  },
  {
   "cell_type": "code",
   "execution_count": 2,
   "metadata": {},
   "outputs": [
    {
     "data": {
      "text/plain": [
       "(451839, 171)"
      ]
     },
     "execution_count": 2,
     "metadata": {},
     "output_type": "execute_result"
    }
   ],
   "source": [
    "raw_feature_data = pd.read_csv('LIG_feature_table.csv')\n",
    "raw_feature_data.shape"
   ]
  },
  {
   "cell_type": "code",
   "execution_count": 3,
   "metadata": {},
   "outputs": [
    {
     "data": {
      "text/html": [
       "['residue_string', 'A_pssm_ff', 'A_pssm_psiblast', 'A_wop_ff', 'A_wop_psiblast', 'C_pssm_ff', 'C_pssm_psiblast', 'C_wop_ff', 'C_wop_psiblast', 'D_pssm_ff', 'D_pssm_psiblast', 'D_wop_ff', 'D_wop_psiblast', 'E_pssm_ff', 'E_pssm_psiblast', 'E_wop_ff', 'E_wop_psiblast', 'F_pssm_ff', 'F_pssm_psiblast', 'F_wop_ff', 'F_wop_psiblast', 'G_pssm_ff', 'G_pssm_psiblast', 'G_wop_ff', 'G_wop_psiblast', 'H_pssm_ff', 'H_pssm_psiblast', 'H_wop_ff', 'H_wop_psiblast', 'I_pssm_ff', 'I_pssm_psiblast', 'I_wop_ff', 'I_wop_psiblast', 'K_pssm_ff', 'K_pssm_psiblast', 'K_wop_ff', 'K_wop_psiblast', 'L_pssm_ff', 'L_pssm_psiblast', 'L_wop_ff', 'L_wop_psiblast', 'M_pssm_ff', 'M_pssm_psiblast', 'M_wop_ff', 'M_wop_psiblast', 'N_pssm_ff', 'N_pssm_psiblast', 'N_wop_ff', 'N_wop_psiblast', 'P_pssm_ff', 'P_pssm_psiblast', 'P_wop_ff', 'P_wop_psiblast', 'Q_pssm_ff', 'Q_pssm_psiblast', 'Q_wop_ff', 'Q_wop_psiblast', 'R_pssm_ff', 'R_pssm_psiblast', 'R_wop_ff', 'R_wop_psiblast', 'SF', 'S_pssm_ff', 'S_pssm_psiblast', 'S_wop_ff', 'S_wop_psiblast', 'T_pssm_ff', 'T_pssm_psiblast', 'T_wop_ff', 'T_wop_psiblast', 'V_pssm_ff', 'V_pssm_psiblast', 'V_wop_ff', 'V_wop_psiblast', 'W_pssm_ff', 'W_pssm_psiblast', 'W_wop_ff', 'W_wop_psiblast', 'Y_pssm_ff', 'Y_pssm_psiblast', 'Y_wop_ff', 'Y_wop_psiblast', 'alpha', 'annotation_3DID_INTERCHAIN', 'annotation_3DID_INTRACHAIN', 'annotation_BIOLIP', 'annotation_BIOLIP_ligand', 'annotation_IBIS_LIG', 'annotation_IBIS_PPI_INTERCHAIN', 'annotation_IBIS_PPI_INTRACHAIN', 'annotation_MCSA', 'annotation_MCSA_role', 'annotation_MCSA_roletype', 'annotation_PROTINDB', 'avg_charged', 'avg_cx', 'avg_dpx', 'avg_electric_effect', 'avg_flexibility', 'avg_hydropathicity', 'avg_hydrophobicity', 'avg_polarity', 'avg_scons', 'avg_surface_residues', 'avg_surrounding_hydrophobicity', 'betweenness', 'bulkiness', 'charge', 'cleft_depth', 'cleft_num', 'closeness', 'conserved_hotspot_struc_neighbourhood', 'conserved_surface_hotspot_struc_neighbourhood', 'degree', 'dist_to_hotspot', 'dist_to_surface', 'dom_group', 'domain_length', 'domain_num_in_chain', 'dops', 'dssp_type', 'entwop_score_ff', 'entwop_score_psiblast', 'foldx_alascan', 'free_energy_solution', 'gapless_match_to_pseudocounts_ff', 'gapless_match_to_pseudocounts_psiblast', 'highly_conserved_struc_neighbourhood', 'highly_conserved_surface_struc_neighbourhood', 'hotspot_struc_neighbourhood', 'hydration_potential', 'hydropathicity', 'hydropathy_index', 'hydrophobicity', 'hydrophobicity_psaia', 'ibis_lig_freq', 'ibis_ppi_freq', 'info_per_pos_ff', 'info_per_pos_psiblast', 'kappa', 'localised_electrical_effect', 'max_cx', 'max_dpx', 'min_cx', 'min_dist_to_cleft_1', 'min_dist_to_cleft_2', 'min_dist_to_cleft_3', 'min_dpx', 'mutability', 'nhBonds_ptr', 'oBonds_ptr', 'phi', 'pocket_conserved_struc_neighbourhood', 'pocket_struc_neighbourhood', 'pocket_surface_conserved_struc_neighbourhood', 'polarity', 'psi', 'resTco', 'res_bfactor_n', 'residue_aa', 'rsa_allatoms', 'rsa_mainchain', 'rsa_nonpolar', 'rsa_polar', 'rsa_totside', 'sc5_gs', 'sc5_scons', 'scons', 'surface_residues_struc_neighbourhood', 'van_der_waals_vol_normalised', 'Unnamed: 170']"
      ],
      "text/plain": [
       "['residue_string',\n",
       " 'A_pssm_ff',\n",
       " 'A_pssm_psiblast',\n",
       " 'A_wop_ff',\n",
       " 'A_wop_psiblast',\n",
       " 'C_pssm_ff',\n",
       " 'C_pssm_psiblast',\n",
       " 'C_wop_ff',\n",
       " 'C_wop_psiblast',\n",
       " 'D_pssm_ff',\n",
       " 'D_pssm_psiblast',\n",
       " 'D_wop_ff',\n",
       " 'D_wop_psiblast',\n",
       " 'E_pssm_ff',\n",
       " 'E_pssm_psiblast',\n",
       " 'E_wop_ff',\n",
       " 'E_wop_psiblast',\n",
       " 'F_pssm_ff',\n",
       " 'F_pssm_psiblast',\n",
       " 'F_wop_ff',\n",
       " 'F_wop_psiblast',\n",
       " 'G_pssm_ff',\n",
       " 'G_pssm_psiblast',\n",
       " 'G_wop_ff',\n",
       " 'G_wop_psiblast',\n",
       " 'H_pssm_ff',\n",
       " 'H_pssm_psiblast',\n",
       " 'H_wop_ff',\n",
       " 'H_wop_psiblast',\n",
       " 'I_pssm_ff',\n",
       " 'I_pssm_psiblast',\n",
       " 'I_wop_ff',\n",
       " 'I_wop_psiblast',\n",
       " 'K_pssm_ff',\n",
       " 'K_pssm_psiblast',\n",
       " 'K_wop_ff',\n",
       " 'K_wop_psiblast',\n",
       " 'L_pssm_ff',\n",
       " 'L_pssm_psiblast',\n",
       " 'L_wop_ff',\n",
       " 'L_wop_psiblast',\n",
       " 'M_pssm_ff',\n",
       " 'M_pssm_psiblast',\n",
       " 'M_wop_ff',\n",
       " 'M_wop_psiblast',\n",
       " 'N_pssm_ff',\n",
       " 'N_pssm_psiblast',\n",
       " 'N_wop_ff',\n",
       " 'N_wop_psiblast',\n",
       " 'P_pssm_ff',\n",
       " 'P_pssm_psiblast',\n",
       " 'P_wop_ff',\n",
       " 'P_wop_psiblast',\n",
       " 'Q_pssm_ff',\n",
       " 'Q_pssm_psiblast',\n",
       " 'Q_wop_ff',\n",
       " 'Q_wop_psiblast',\n",
       " 'R_pssm_ff',\n",
       " 'R_pssm_psiblast',\n",
       " 'R_wop_ff',\n",
       " 'R_wop_psiblast',\n",
       " 'SF',\n",
       " 'S_pssm_ff',\n",
       " 'S_pssm_psiblast',\n",
       " 'S_wop_ff',\n",
       " 'S_wop_psiblast',\n",
       " 'T_pssm_ff',\n",
       " 'T_pssm_psiblast',\n",
       " 'T_wop_ff',\n",
       " 'T_wop_psiblast',\n",
       " 'V_pssm_ff',\n",
       " 'V_pssm_psiblast',\n",
       " 'V_wop_ff',\n",
       " 'V_wop_psiblast',\n",
       " 'W_pssm_ff',\n",
       " 'W_pssm_psiblast',\n",
       " 'W_wop_ff',\n",
       " 'W_wop_psiblast',\n",
       " 'Y_pssm_ff',\n",
       " 'Y_pssm_psiblast',\n",
       " 'Y_wop_ff',\n",
       " 'Y_wop_psiblast',\n",
       " 'alpha',\n",
       " 'annotation_3DID_INTERCHAIN',\n",
       " 'annotation_3DID_INTRACHAIN',\n",
       " 'annotation_BIOLIP',\n",
       " 'annotation_BIOLIP_ligand',\n",
       " 'annotation_IBIS_LIG',\n",
       " 'annotation_IBIS_PPI_INTERCHAIN',\n",
       " 'annotation_IBIS_PPI_INTRACHAIN',\n",
       " 'annotation_MCSA',\n",
       " 'annotation_MCSA_role',\n",
       " 'annotation_MCSA_roletype',\n",
       " 'annotation_PROTINDB',\n",
       " 'avg_charged',\n",
       " 'avg_cx',\n",
       " 'avg_dpx',\n",
       " 'avg_electric_effect',\n",
       " 'avg_flexibility',\n",
       " 'avg_hydropathicity',\n",
       " 'avg_hydrophobicity',\n",
       " 'avg_polarity',\n",
       " 'avg_scons',\n",
       " 'avg_surface_residues',\n",
       " 'avg_surrounding_hydrophobicity',\n",
       " 'betweenness',\n",
       " 'bulkiness',\n",
       " 'charge',\n",
       " 'cleft_depth',\n",
       " 'cleft_num',\n",
       " 'closeness',\n",
       " 'conserved_hotspot_struc_neighbourhood',\n",
       " 'conserved_surface_hotspot_struc_neighbourhood',\n",
       " 'degree',\n",
       " 'dist_to_hotspot',\n",
       " 'dist_to_surface',\n",
       " 'dom_group',\n",
       " 'domain_length',\n",
       " 'domain_num_in_chain',\n",
       " 'dops',\n",
       " 'dssp_type',\n",
       " 'entwop_score_ff',\n",
       " 'entwop_score_psiblast',\n",
       " 'foldx_alascan',\n",
       " 'free_energy_solution',\n",
       " 'gapless_match_to_pseudocounts_ff',\n",
       " 'gapless_match_to_pseudocounts_psiblast',\n",
       " 'highly_conserved_struc_neighbourhood',\n",
       " 'highly_conserved_surface_struc_neighbourhood',\n",
       " 'hotspot_struc_neighbourhood',\n",
       " 'hydration_potential',\n",
       " 'hydropathicity',\n",
       " 'hydropathy_index',\n",
       " 'hydrophobicity',\n",
       " 'hydrophobicity_psaia',\n",
       " 'ibis_lig_freq',\n",
       " 'ibis_ppi_freq',\n",
       " 'info_per_pos_ff',\n",
       " 'info_per_pos_psiblast',\n",
       " 'kappa',\n",
       " 'localised_electrical_effect',\n",
       " 'max_cx',\n",
       " 'max_dpx',\n",
       " 'min_cx',\n",
       " 'min_dist_to_cleft_1',\n",
       " 'min_dist_to_cleft_2',\n",
       " 'min_dist_to_cleft_3',\n",
       " 'min_dpx',\n",
       " 'mutability',\n",
       " 'nhBonds_ptr',\n",
       " 'oBonds_ptr',\n",
       " 'phi',\n",
       " 'pocket_conserved_struc_neighbourhood',\n",
       " 'pocket_struc_neighbourhood',\n",
       " 'pocket_surface_conserved_struc_neighbourhood',\n",
       " 'polarity',\n",
       " 'psi',\n",
       " 'resTco',\n",
       " 'res_bfactor_n',\n",
       " 'residue_aa',\n",
       " 'rsa_allatoms',\n",
       " 'rsa_mainchain',\n",
       " 'rsa_nonpolar',\n",
       " 'rsa_polar',\n",
       " 'rsa_totside',\n",
       " 'sc5_gs',\n",
       " 'sc5_scons',\n",
       " 'scons',\n",
       " 'surface_residues_struc_neighbourhood',\n",
       " 'van_der_waals_vol_normalised',\n",
       " 'Unnamed: 170']"
      ]
     },
     "execution_count": 3,
     "metadata": {},
     "output_type": "execute_result"
    }
   ],
   "source": [
    "raw_feature_data.columns.tolist()"
   ]
  },
  {
   "cell_type": "markdown",
   "metadata": {},
   "source": [
    "#### NOTE: For Metal-binding Funsite Predictor, restrict dataset to metal ligands only"
   ]
  },
  {
   "cell_type": "code",
   "execution_count": 4,
   "metadata": {},
   "outputs": [],
   "source": [
    "#### For Metal-binding Funsite Predictor\n",
    "#raw_feature_data = raw_feature_data[raw_feature_data['annotation_BIOLIP_ligand'].isin(['ZN', 'CA', 'MG', 'MN', 'CU', 'K', 'FE', 'FE2', 'CO', 'NA', 'IOD', 'XE', 'NI', 'NO_LIGAND'])]\n",
    "#raw_feature_data.shape"
   ]
  },
  {
   "cell_type": "code",
   "execution_count": 5,
   "metadata": {},
   "outputs": [
    {
     "data": {
      "text/plain": [
       "2863"
      ]
     },
     "execution_count": 5,
     "metadata": {},
     "output_type": "execute_result"
    }
   ],
   "source": [
    "raw_feature_data = raw_feature_data.drop(['Unnamed: 170'], axis =1)\n",
    "raw_feature_data['domain'], raw_feature_data['domain_residue'] = raw_feature_data['residue_string'].str.split('_', 1).str\n",
    "raw_feature_data['dompdbchain_res'] = raw_feature_data['residue_string'].str[:5] + '_' + raw_feature_data['domain_residue']\n",
    "\n",
    "raw_feature_data = raw_feature_data[~raw_feature_data['annotation_BIOLIP_ligand'].isin(['NUC', 'III', 'UUU'])]\n",
    "\n",
    "raw_feature_data['dssp_type'] = raw_feature_data['dssp_type'].fillna(\"NO_PRED\")\n",
    "raw_feature_data['surface_residue_rsa'] = (raw_feature_data['rsa_allatoms'] >= 10).astype(int)\n",
    "raw_feature_data['highly_conserved'] = (raw_feature_data['scons'] >= 0.7).astype(int)\n",
    "raw_feature_data['cleft_residue'] = (raw_feature_data['cleft_num'] > 0).astype(int)\n",
    "raw_feature_data['hydrophobic_aa'] = (raw_feature_data['hydrophobicity'] >= 0.48).astype(int)\n",
    "raw_feature_data['polar_aa'] = (raw_feature_data['polarity'] >= 10).astype(int)\n",
    "raw_feature_data['res_bfactor_n'] = raw_feature_data['res_bfactor_n'].astype(float)\n",
    "raw_feature_data['entwop_score_ff'] = raw_feature_data['entwop_score_ff'].astype(float)\n",
    "raw_feature_data['entwop_score_psiblast'] = raw_feature_data['entwop_score_psiblast'].astype(float)\n",
    "mindist = raw_feature_data[['min_dist_to_cleft_1','min_dist_to_cleft_2','min_dist_to_cleft_3']].min(axis=1)\n",
    "raw_feature_data = raw_feature_data.assign(min_dist_to_cleft123=mindist)\n",
    "raw_feature_data = pd.get_dummies(raw_feature_data, columns=['residue_aa', 'dssp_type'])\n",
    "# Remove any duplicate samples. \n",
    "raw_feature_data = raw_feature_data.drop_duplicates()\n",
    "# Remove NA rows\n",
    "raw_feature_data = raw_feature_data.dropna()\n",
    "# Count no. of domains in whole dataset\n",
    "raw_feature_data.groupby(['domain']).size().shape[0]"
   ]
  },
  {
   "cell_type": "code",
   "execution_count": 6,
   "metadata": {},
   "outputs": [],
   "source": [
    "# Get list of LIG domains\n",
    "lig_domains = raw_feature_data['domain'].unique().tolist()"
   ]
  },
  {
   "cell_type": "code",
   "execution_count": 7,
   "metadata": {},
   "outputs": [
    {
     "data": {
      "text/plain": [
       "2863"
      ]
     },
     "execution_count": 7,
     "metadata": {},
     "output_type": "execute_result"
    }
   ],
   "source": [
    "# Only use domains at NR sequence identity <= 60% \n",
    "\n",
    "nr_lig_domains = []\n",
    "\n",
    "# open file and read the content in a list\n",
    "with open('NR60_lig_domains.txt', 'r') as filehandle:  \n",
    "    for line in filehandle:\n",
    "        # remove linebreak which is the last character of the string\n",
    "        currentPlace = line[:-1]\n",
    "\n",
    "        # add item to the list\n",
    "        nr_lig_domains.append(currentPlace)\n",
    "        \n",
    "raw_feature_data=raw_feature_data[raw_feature_data['domain'].isin(nr_lig_domains)]\n",
    "raw_feature_data.groupby(['domain']).size().shape[0]"
   ]
  },
  {
   "cell_type": "markdown",
   "metadata": {},
   "source": [
    "### Generate LIG benchmark and validation datasets"
   ]
  },
  {
   "cell_type": "code",
   "execution_count": 8,
   "metadata": {},
   "outputs": [
    {
     "name": "stderr",
     "output_type": "stream",
     "text": [
      "/Users/sayonidas/anaconda/lib/python3.6/site-packages/ipykernel_launcher.py:1: FutureWarning: read_table is deprecated, use read_csv instead, passing sep='\\t'.\n",
      "  \"\"\"Entry point for launching an IPython kernel.\n"
     ]
    },
    {
     "data": {
      "text/html": [
       "<div>\n",
       "<style scoped>\n",
       "    .dataframe tbody tr th:only-of-type {\n",
       "        vertical-align: middle;\n",
       "    }\n",
       "\n",
       "    .dataframe tbody tr th {\n",
       "        vertical-align: top;\n",
       "    }\n",
       "\n",
       "    .dataframe thead th {\n",
       "        text-align: right;\n",
       "    }\n",
       "</style>\n",
       "<table border=\"1\" class=\"dataframe\">\n",
       "  <thead>\n",
       "    <tr style=\"text-align: right;\">\n",
       "      <th></th>\n",
       "      <th>pdbchain_res</th>\n",
       "      <th>concavity_score</th>\n",
       "    </tr>\n",
       "  </thead>\n",
       "  <tbody>\n",
       "    <tr>\n",
       "      <th>0</th>\n",
       "      <td>1a5uC_1</td>\n",
       "      <td>0.0</td>\n",
       "    </tr>\n",
       "    <tr>\n",
       "      <th>1</th>\n",
       "      <td>1a5uC_2</td>\n",
       "      <td>0.0</td>\n",
       "    </tr>\n",
       "  </tbody>\n",
       "</table>\n",
       "</div>"
      ],
      "text/plain": [
       "  pdbchain_res  concavity_score\n",
       "0      1a5uC_1              0.0\n",
       "1      1a5uC_2              0.0"
      ]
     },
     "execution_count": 8,
     "metadata": {},
     "output_type": "execute_result"
    }
   ],
   "source": [
    "concavity_df = pd.read_table('Concavity_results.txt', names = ['pdb', 'chain', 'pdbchain', 'pdbchain_res', 'res', 'aa','concavity_score'])\n",
    "concavity_df = concavity_df.drop(['pdb', 'chain', 'pdbchain', 'res', 'aa'], axis =1)\n",
    "concavity_df.head(2)"
   ]
  },
  {
   "cell_type": "code",
   "execution_count": 9,
   "metadata": {},
   "outputs": [],
   "source": [
    "raw_feature_data_concavity =raw_feature_data.merge(concavity_df, left_on='dompdbchain_res', right_on='pdbchain_res', how='inner')\n",
    "site_doms_concavity = raw_feature_data_concavity.domain.unique()\n",
    "validation_set = raw_feature_data_concavity\n",
    "\n",
    "raw_feature_data = raw_feature_data[~raw_feature_data['domain'].isin(site_doms_concavity)]"
   ]
  },
  {
   "cell_type": "code",
   "execution_count": 10,
   "metadata": {},
   "outputs": [],
   "source": [
    "def preprocess_site_nonsite_df(site_data, nonsite_data, ratio):\n",
    "        \n",
    "    # Get the list of domains that have site annotations\n",
    "    positive_sample_num = site_data.shape[0]\n",
    "    print('#Postive samples:',positive_sample_num)\n",
    "    \n",
    "    # make a subset dataframe containing only NOSITE (negative) residues\n",
    "    negative_sample_num = nonsite_data.shape[0]\n",
    "    print('#Negative samples:',negative_sample_num)\n",
    "    \n",
    "    print ('Use these samples for training the model:')\n",
    "    use_sample_num = positive_sample_num * ratio\n",
    "        \n",
    "    if (use_sample_num > negative_sample_num):\n",
    "        use_sample_num = negative_sample_num\n",
    "    \n",
    "    total_samples = use_sample_num + positive_sample_num\n",
    "    \n",
    "    print ('- Used negative samples:',use_sample_num)\n",
    "    print ('- Total samples:',total_samples)\n",
    "    \n",
    "    dom_groups_df = nonsite_data.groupby(['domain']).size()\n",
    "    dom_group_num = dom_groups_df.shape[0]\n",
    "    print ('- No. of groups of samples:',dom_group_num)\n",
    "    \n",
    "    sample_size = round(use_sample_num/dom_group_num)\n",
    "\n",
    "    print ('- Min. sample size in no_sites:', sample_size)\n",
    "    \n",
    "    nonsite_data = nonsite_data.groupby(['domain']).filter(lambda x: len(x) > sample_size)\n",
    "    nonsite_data_randomsubset=nonsite_data.groupby('domain').apply(lambda x: x.sample(n=sample_size, random_state=10)).reset_index(drop=True)\n",
    "    \n",
    "    # COMBINE selected csa and non-csa data for the desired dataset ratio\n",
    "    frames = [site_data, nonsite_data_randomsubset]\n",
    "    concatenated_feature_data = pd.concat(frames)\n",
    "    dataset_sample_num = concatenated_feature_data.shape[0]\n",
    "    feature_data_ML = concatenated_feature_data.set_index('index').sample(n=dataset_sample_num, random_state=10)\n",
    "    feature_data_ML.index.name = None\n",
    "    \n",
    "    return(feature_data_ML)"
   ]
  },
  {
   "cell_type": "code",
   "execution_count": 11,
   "metadata": {},
   "outputs": [
    {
     "name": "stderr",
     "output_type": "stream",
     "text": [
      "/Users/sayonidas/anaconda/lib/python3.6/site-packages/ipykernel_launcher.py:6: SettingWithCopyWarning: \n",
      "A value is trying to be set on a copy of a slice from a DataFrame.\n",
      "Try using .loc[row_indexer,col_indexer] = value instead\n",
      "\n",
      "See the caveats in the documentation: http://pandas.pydata.org/pandas-docs/stable/indexing.html#indexing-view-versus-copy\n",
      "  \n"
     ]
    },
    {
     "name": "stdout",
     "output_type": "stream",
     "text": [
      "#Postive samples: 13870\n",
      "#Negative samples: 310967\n",
      "Use these samples for training the model:\n",
      "- Used negative samples: 83220\n",
      "- Total samples: 97090\n",
      "- No. of groups of samples: 2026\n",
      "- Min. sample size in no_sites: 41\n"
     ]
    },
    {
     "name": "stderr",
     "output_type": "stream",
     "text": [
      "/Users/sayonidas/anaconda/lib/python3.6/site-packages/ipykernel_launcher.py:35: FutureWarning: Sorting because non-concatenation axis is not aligned. A future version\n",
      "of pandas will change to not sort by default.\n",
      "\n",
      "To accept the future behavior, pass 'sort=False'.\n",
      "\n",
      "To retain the current behavior and silence the warning, pass 'sort=True'.\n",
      "\n"
     ]
    },
    {
     "name": "stdout",
     "output_type": "stream",
     "text": [
      "2026\n"
     ]
    }
   ],
   "source": [
    "# Training dataset\n",
    "training_data=raw_feature_data\n",
    "SITE_data = training_data[(training_data.annotation_BIOLIP == 1) ]\n",
    "site_doms = SITE_data.domain.unique()\n",
    "NOSITE_data = training_data[(training_data.annotation_BIOLIP == 0 ) & training_data.domain.isin(site_doms)] \n",
    "NOSITE_data['index']=NOSITE_data['residue_string']\n",
    "\n",
    "training_data_ML = preprocess_site_nonsite_df(SITE_data, NOSITE_data, 6)\n",
    "training_data_ML = training_data_ML.drop_duplicates()\n",
    "print(len(training_data_ML.domain.unique()))"
   ]
  },
  {
   "cell_type": "code",
   "execution_count": 12,
   "metadata": {},
   "outputs": [
    {
     "name": "stderr",
     "output_type": "stream",
     "text": [
      "/Users/sayonidas/anaconda/lib/python3.6/site-packages/ipykernel_launcher.py:5: SettingWithCopyWarning: \n",
      "A value is trying to be set on a copy of a slice from a DataFrame.\n",
      "Try using .loc[row_indexer,col_indexer] = value instead\n",
      "\n",
      "See the caveats in the documentation: http://pandas.pydata.org/pandas-docs/stable/indexing.html#indexing-view-versus-copy\n",
      "  \"\"\"\n"
     ]
    },
    {
     "name": "stdout",
     "output_type": "stream",
     "text": [
      "#Postive samples: 5634\n",
      "#Negative samples: 103821\n",
      "Use these samples for training the model:\n",
      "- Used negative samples: 33804\n",
      "- Total samples: 39438\n",
      "- No. of groups of samples: 800\n",
      "- Min. sample size in no_sites: 42\n"
     ]
    },
    {
     "name": "stderr",
     "output_type": "stream",
     "text": [
      "/Users/sayonidas/anaconda/lib/python3.6/site-packages/ipykernel_launcher.py:35: FutureWarning: Sorting because non-concatenation axis is not aligned. A future version\n",
      "of pandas will change to not sort by default.\n",
      "\n",
      "To accept the future behavior, pass 'sort=False'.\n",
      "\n",
      "To retain the current behavior and silence the warning, pass 'sort=True'.\n",
      "\n"
     ]
    },
    {
     "name": "stdout",
     "output_type": "stream",
     "text": [
      "800\n"
     ]
    }
   ],
   "source": [
    "SITE_data_val = validation_set[(validation_set.annotation_BIOLIP == 1) ]#| (raw_feature_data.annotation_3DID_INTRACHAIN == 1\n",
    "site_doms_val = SITE_data_val.domain.unique()\n",
    "\n",
    "NOSITE_data_val = validation_set[(validation_set.annotation_BIOLIP == 0 ) & (validation_set.domain.isin(site_doms_val)) ]\n",
    "NOSITE_data_val['index']=NOSITE_data_val['residue_string']\n",
    "\n",
    "validation_data_ML = preprocess_site_nonsite_df(SITE_data_val, NOSITE_data_val, 6)\n",
    "validation_data_ML =validation_data_ML.drop_duplicates()\n",
    "print(len(validation_data_ML.domain.unique()))"
   ]
  },
  {
   "cell_type": "code",
   "execution_count": 13,
   "metadata": {},
   "outputs": [],
   "source": [
    "training_data_ML.to_csv('LIG_training_dataset.csv', index=False)"
   ]
  },
  {
   "cell_type": "code",
   "execution_count": 14,
   "metadata": {},
   "outputs": [],
   "source": [
    "validation_data_ML.to_csv('LIG_validation_dataset.csv', index=False)"
   ]
  }
 ],
 "metadata": {
  "kernelspec": {
   "display_name": "Python 3",
   "language": "python",
   "name": "python3"
  },
  "language_info": {
   "codemirror_mode": {
    "name": "ipython",
    "version": 3
   },
   "file_extension": ".py",
   "mimetype": "text/x-python",
   "name": "python",
   "nbconvert_exporter": "python",
   "pygments_lexer": "ipython3",
   "version": "3.6.8"
  }
 },
 "nbformat": 4,
 "nbformat_minor": 2
}
