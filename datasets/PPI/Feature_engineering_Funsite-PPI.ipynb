{
 "cells": [
  {
   "cell_type": "code",
   "execution_count": 1,
   "metadata": {},
   "outputs": [],
   "source": [
    "import pandas as pd\n",
    "import numpy as np\n",
    "import warnings\n",
    "import seaborn as sns\n",
    "sns.despine()\n",
    "from scipy import interp\n",
    "from statistics import mean\n",
    "import matplotlib.pyplot as plt\n",
    "from collections import OrderedDict\n",
    "\n",
    "import sys\n",
    "sys.path.append('../../scripts')\n",
    "from helper_functions import *"
   ]
  },
  {
   "cell_type": "markdown",
   "metadata": {},
   "source": [
    "### Load PPI dataset generated from CATH FunFams"
   ]
  },
  {
   "cell_type": "code",
   "execution_count": 2,
   "metadata": {},
   "outputs": [
    {
     "data": {
      "text/plain": [
       "(574283, 171)"
      ]
     },
     "execution_count": 2,
     "metadata": {},
     "output_type": "execute_result"
    }
   ],
   "source": [
    "raw_feature_data = pd.read_csv('PPI_feature_table.csv')\n",
    "raw_feature_data.shape"
   ]
  },
  {
   "cell_type": "code",
   "execution_count": 3,
   "metadata": {},
   "outputs": [
    {
     "data": {
      "text/html": [
       "['residue_string', 'A_pssm_ff', 'A_pssm_psiblast', 'A_wop_ff', 'A_wop_psiblast', 'C_pssm_ff', 'C_pssm_psiblast', 'C_wop_ff', 'C_wop_psiblast', 'D_pssm_ff', 'D_pssm_psiblast', 'D_wop_ff', 'D_wop_psiblast', 'E_pssm_ff', 'E_pssm_psiblast', 'E_wop_ff', 'E_wop_psiblast', 'F_pssm_ff', 'F_pssm_psiblast', 'F_wop_ff', 'F_wop_psiblast', 'G_pssm_ff', 'G_pssm_psiblast', 'G_wop_ff', 'G_wop_psiblast', 'H_pssm_ff', 'H_pssm_psiblast', 'H_wop_ff', 'H_wop_psiblast', 'I_pssm_ff', 'I_pssm_psiblast', 'I_wop_ff', 'I_wop_psiblast', 'K_pssm_ff', 'K_pssm_psiblast', 'K_wop_ff', 'K_wop_psiblast', 'L_pssm_ff', 'L_pssm_psiblast', 'L_wop_ff', 'L_wop_psiblast', 'M_pssm_ff', 'M_pssm_psiblast', 'M_wop_ff', 'M_wop_psiblast', 'N_pssm_ff', 'N_pssm_psiblast', 'N_wop_ff', 'N_wop_psiblast', 'P_pssm_ff', 'P_pssm_psiblast', 'P_wop_ff', 'P_wop_psiblast', 'Q_pssm_ff', 'Q_pssm_psiblast', 'Q_wop_ff', 'Q_wop_psiblast', 'R_pssm_ff', 'R_pssm_psiblast', 'R_wop_ff', 'R_wop_psiblast', 'SF', 'S_pssm_ff', 'S_pssm_psiblast', 'S_wop_ff', 'S_wop_psiblast', 'T_pssm_ff', 'T_pssm_psiblast', 'T_wop_ff', 'T_wop_psiblast', 'V_pssm_ff', 'V_pssm_psiblast', 'V_wop_ff', 'V_wop_psiblast', 'W_pssm_ff', 'W_pssm_psiblast', 'W_wop_ff', 'W_wop_psiblast', 'Y_pssm_ff', 'Y_pssm_psiblast', 'Y_wop_ff', 'Y_wop_psiblast', 'alpha', 'annotation_3DID_INTERCHAIN', 'annotation_3DID_INTRACHAIN', 'annotation_BIOLIP', 'annotation_BIOLIP_ligand', 'annotation_IBIS_LIG', 'annotation_IBIS_PPI_INTERCHAIN', 'annotation_IBIS_PPI_INTRACHAIN', 'annotation_MCSA', 'annotation_MCSA_role', 'annotation_MCSA_roletype', 'annotation_PROTINDB', 'avg_charged', 'avg_cx', 'avg_dpx', 'avg_electric_effect', 'avg_flexibility', 'avg_hydropathicity', 'avg_hydrophobicity', 'avg_polarity', 'avg_scons', 'avg_surface_residues', 'avg_surrounding_hydrophobicity', 'betweenness', 'bulkiness', 'charge', 'cleft_depth', 'cleft_num', 'closeness', 'conserved_hotspot_struc_neighbourhood', 'conserved_surface_hotspot_struc_neighbourhood', 'degree', 'dist_to_hotspot', 'dist_to_surface', 'dom_group', 'domain_length', 'domain_num_in_chain', 'dops', 'dssp_type', 'entwop_score_ff', 'entwop_score_psiblast', 'foldx_alascan', 'free_energy_solution', 'gapless_match_to_pseudocounts_ff', 'gapless_match_to_pseudocounts_psiblast', 'highly_conserved_struc_neighbourhood', 'highly_conserved_surface_struc_neighbourhood', 'hotspot_struc_neighbourhood', 'hydration_potential', 'hydropathicity', 'hydropathy_index', 'hydrophobicity', 'hydrophobicity_psaia', 'ibis_lig_freq', 'ibis_ppi_freq', 'info_per_pos_ff', 'info_per_pos_psiblast', 'kappa', 'localised_electrical_effect', 'max_cx', 'max_dpx', 'min_cx', 'min_dist_to_cleft_1', 'min_dist_to_cleft_2', 'min_dist_to_cleft_3', 'min_dpx', 'mutability', 'nhBonds_ptr', 'oBonds_ptr', 'phi', 'pocket_conserved_struc_neighbourhood', 'pocket_struc_neighbourhood', 'pocket_surface_conserved_struc_neighbourhood', 'polarity', 'psi', 'resTco', 'res_bfactor_n', 'residue_aa', 'rsa_allatoms', 'rsa_mainchain', 'rsa_nonpolar', 'rsa_polar', 'rsa_totside', 'sc5_gs', 'sc5_scons', 'scons', 'surface_residues_struc_neighbourhood', 'van_der_waals_vol_normalised', 'Unnamed: 170']"
      ],
      "text/plain": [
       "['residue_string',\n",
       " 'A_pssm_ff',\n",
       " 'A_pssm_psiblast',\n",
       " 'A_wop_ff',\n",
       " 'A_wop_psiblast',\n",
       " 'C_pssm_ff',\n",
       " 'C_pssm_psiblast',\n",
       " 'C_wop_ff',\n",
       " 'C_wop_psiblast',\n",
       " 'D_pssm_ff',\n",
       " 'D_pssm_psiblast',\n",
       " 'D_wop_ff',\n",
       " 'D_wop_psiblast',\n",
       " 'E_pssm_ff',\n",
       " 'E_pssm_psiblast',\n",
       " 'E_wop_ff',\n",
       " 'E_wop_psiblast',\n",
       " 'F_pssm_ff',\n",
       " 'F_pssm_psiblast',\n",
       " 'F_wop_ff',\n",
       " 'F_wop_psiblast',\n",
       " 'G_pssm_ff',\n",
       " 'G_pssm_psiblast',\n",
       " 'G_wop_ff',\n",
       " 'G_wop_psiblast',\n",
       " 'H_pssm_ff',\n",
       " 'H_pssm_psiblast',\n",
       " 'H_wop_ff',\n",
       " 'H_wop_psiblast',\n",
       " 'I_pssm_ff',\n",
       " 'I_pssm_psiblast',\n",
       " 'I_wop_ff',\n",
       " 'I_wop_psiblast',\n",
       " 'K_pssm_ff',\n",
       " 'K_pssm_psiblast',\n",
       " 'K_wop_ff',\n",
       " 'K_wop_psiblast',\n",
       " 'L_pssm_ff',\n",
       " 'L_pssm_psiblast',\n",
       " 'L_wop_ff',\n",
       " 'L_wop_psiblast',\n",
       " 'M_pssm_ff',\n",
       " 'M_pssm_psiblast',\n",
       " 'M_wop_ff',\n",
       " 'M_wop_psiblast',\n",
       " 'N_pssm_ff',\n",
       " 'N_pssm_psiblast',\n",
       " 'N_wop_ff',\n",
       " 'N_wop_psiblast',\n",
       " 'P_pssm_ff',\n",
       " 'P_pssm_psiblast',\n",
       " 'P_wop_ff',\n",
       " 'P_wop_psiblast',\n",
       " 'Q_pssm_ff',\n",
       " 'Q_pssm_psiblast',\n",
       " 'Q_wop_ff',\n",
       " 'Q_wop_psiblast',\n",
       " 'R_pssm_ff',\n",
       " 'R_pssm_psiblast',\n",
       " 'R_wop_ff',\n",
       " 'R_wop_psiblast',\n",
       " 'SF',\n",
       " 'S_pssm_ff',\n",
       " 'S_pssm_psiblast',\n",
       " 'S_wop_ff',\n",
       " 'S_wop_psiblast',\n",
       " 'T_pssm_ff',\n",
       " 'T_pssm_psiblast',\n",
       " 'T_wop_ff',\n",
       " 'T_wop_psiblast',\n",
       " 'V_pssm_ff',\n",
       " 'V_pssm_psiblast',\n",
       " 'V_wop_ff',\n",
       " 'V_wop_psiblast',\n",
       " 'W_pssm_ff',\n",
       " 'W_pssm_psiblast',\n",
       " 'W_wop_ff',\n",
       " 'W_wop_psiblast',\n",
       " 'Y_pssm_ff',\n",
       " 'Y_pssm_psiblast',\n",
       " 'Y_wop_ff',\n",
       " 'Y_wop_psiblast',\n",
       " 'alpha',\n",
       " 'annotation_3DID_INTERCHAIN',\n",
       " 'annotation_3DID_INTRACHAIN',\n",
       " 'annotation_BIOLIP',\n",
       " 'annotation_BIOLIP_ligand',\n",
       " 'annotation_IBIS_LIG',\n",
       " 'annotation_IBIS_PPI_INTERCHAIN',\n",
       " 'annotation_IBIS_PPI_INTRACHAIN',\n",
       " 'annotation_MCSA',\n",
       " 'annotation_MCSA_role',\n",
       " 'annotation_MCSA_roletype',\n",
       " 'annotation_PROTINDB',\n",
       " 'avg_charged',\n",
       " 'avg_cx',\n",
       " 'avg_dpx',\n",
       " 'avg_electric_effect',\n",
       " 'avg_flexibility',\n",
       " 'avg_hydropathicity',\n",
       " 'avg_hydrophobicity',\n",
       " 'avg_polarity',\n",
       " 'avg_scons',\n",
       " 'avg_surface_residues',\n",
       " 'avg_surrounding_hydrophobicity',\n",
       " 'betweenness',\n",
       " 'bulkiness',\n",
       " 'charge',\n",
       " 'cleft_depth',\n",
       " 'cleft_num',\n",
       " 'closeness',\n",
       " 'conserved_hotspot_struc_neighbourhood',\n",
       " 'conserved_surface_hotspot_struc_neighbourhood',\n",
       " 'degree',\n",
       " 'dist_to_hotspot',\n",
       " 'dist_to_surface',\n",
       " 'dom_group',\n",
       " 'domain_length',\n",
       " 'domain_num_in_chain',\n",
       " 'dops',\n",
       " 'dssp_type',\n",
       " 'entwop_score_ff',\n",
       " 'entwop_score_psiblast',\n",
       " 'foldx_alascan',\n",
       " 'free_energy_solution',\n",
       " 'gapless_match_to_pseudocounts_ff',\n",
       " 'gapless_match_to_pseudocounts_psiblast',\n",
       " 'highly_conserved_struc_neighbourhood',\n",
       " 'highly_conserved_surface_struc_neighbourhood',\n",
       " 'hotspot_struc_neighbourhood',\n",
       " 'hydration_potential',\n",
       " 'hydropathicity',\n",
       " 'hydropathy_index',\n",
       " 'hydrophobicity',\n",
       " 'hydrophobicity_psaia',\n",
       " 'ibis_lig_freq',\n",
       " 'ibis_ppi_freq',\n",
       " 'info_per_pos_ff',\n",
       " 'info_per_pos_psiblast',\n",
       " 'kappa',\n",
       " 'localised_electrical_effect',\n",
       " 'max_cx',\n",
       " 'max_dpx',\n",
       " 'min_cx',\n",
       " 'min_dist_to_cleft_1',\n",
       " 'min_dist_to_cleft_2',\n",
       " 'min_dist_to_cleft_3',\n",
       " 'min_dpx',\n",
       " 'mutability',\n",
       " 'nhBonds_ptr',\n",
       " 'oBonds_ptr',\n",
       " 'phi',\n",
       " 'pocket_conserved_struc_neighbourhood',\n",
       " 'pocket_struc_neighbourhood',\n",
       " 'pocket_surface_conserved_struc_neighbourhood',\n",
       " 'polarity',\n",
       " 'psi',\n",
       " 'resTco',\n",
       " 'res_bfactor_n',\n",
       " 'residue_aa',\n",
       " 'rsa_allatoms',\n",
       " 'rsa_mainchain',\n",
       " 'rsa_nonpolar',\n",
       " 'rsa_polar',\n",
       " 'rsa_totside',\n",
       " 'sc5_gs',\n",
       " 'sc5_scons',\n",
       " 'scons',\n",
       " 'surface_residues_struc_neighbourhood',\n",
       " 'van_der_waals_vol_normalised',\n",
       " 'Unnamed: 170']"
      ]
     },
     "execution_count": 3,
     "metadata": {},
     "output_type": "execute_result"
    }
   ],
   "source": [
    "raw_feature_data.columns.tolist()"
   ]
  },
  {
   "cell_type": "code",
   "execution_count": 4,
   "metadata": {},
   "outputs": [
    {
     "data": {
      "text/plain": [
       "3518"
      ]
     },
     "execution_count": 4,
     "metadata": {},
     "output_type": "execute_result"
    }
   ],
   "source": [
    "# feature engineering\n",
    "raw_feature_data = raw_feature_data.drop(['Unnamed: 170'], axis =1)\n",
    "raw_feature_data['domain'], raw_feature_data['domain_residue'] = raw_feature_data['residue_string'].str.split('_', 1).str\n",
    "raw_feature_data['dssp_type'] = raw_feature_data['dssp_type'].fillna(\"NO_PRED\")\n",
    "raw_feature_data['surface_residue_rsa'] = (raw_feature_data['rsa_allatoms'] >= 25).astype(int)\n",
    "raw_feature_data['surface_residue_rsa10'] = (raw_feature_data['rsa_allatoms'] >= 10).astype(int)\n",
    "raw_feature_data['highly_conserved'] = (raw_feature_data['scons'] >= 0.7).astype(int)\n",
    "raw_feature_data['cleft_residue'] = (raw_feature_data['cleft_num'] > 0).astype(int)\n",
    "raw_feature_data['hydrophobic_aa'] = (raw_feature_data['hydrophobicity'] >= 0.48).astype(int)\n",
    "raw_feature_data['polar_aa'] = (raw_feature_data['polarity'] >= 10).astype(int)\n",
    "raw_feature_data['res_bfactor_n'] = raw_feature_data['res_bfactor_n'].astype(float)\n",
    "raw_feature_data['entwop_score_ff'] = raw_feature_data['entwop_score_ff'].astype(float)\n",
    "raw_feature_data['entwop_score_psiblast'] = raw_feature_data['entwop_score_psiblast'].astype(float)\n",
    "mindist = raw_feature_data[['min_dist_to_cleft_1','min_dist_to_cleft_2','min_dist_to_cleft_3']].min(axis=1)\n",
    "raw_feature_data = raw_feature_data.assign(min_dist_to_cleft123=mindist)\n",
    "raw_feature_data = pd.get_dummies(raw_feature_data, columns=['residue_aa', 'dssp_type'])\n",
    "# Remove any duplicate samples. \n",
    "raw_feature_data = raw_feature_data.drop_duplicates()\n",
    "# Remove NA rows\n",
    "raw_feature_data = raw_feature_data.dropna()\n",
    "# Count no. of domains in whole dataset\n",
    "raw_feature_data.groupby(['domain']).size().shape[0]"
   ]
  },
  {
   "cell_type": "code",
   "execution_count": 5,
   "metadata": {},
   "outputs": [
    {
     "data": {
      "text/plain": [
       "3502"
      ]
     },
     "execution_count": 5,
     "metadata": {},
     "output_type": "execute_result"
    }
   ],
   "source": [
    "# Get list of PPI domains\n",
    "ppi_domains = raw_feature_data['domain'].unique().tolist()\n",
    "\n",
    "# Only use domains at NR sequence identity <= 60% \n",
    "nr_ppi_domains = []\n",
    "\n",
    "# open file and read the content in a list\n",
    "with open('NR60_ppi_domains.txt', 'r') as filehandle:  \n",
    "    for line in filehandle:\n",
    "        # remove linebreak which is the last character of the string\n",
    "        currentPlace = line[:-1]\n",
    "\n",
    "        # add item to the list\n",
    "        nr_ppi_domains.append(currentPlace)\n",
    "        \n",
    "\n",
    "raw_feature_data=raw_feature_data[raw_feature_data['domain'].isin(nr_ppi_domains)]\n",
    "raw_feature_data.groupby(['domain']).size().shape[0]"
   ]
  },
  {
   "cell_type": "markdown",
   "metadata": {},
   "source": [
    "### Generate PPI benchmark and validation datasets"
   ]
  },
  {
   "cell_type": "code",
   "execution_count": 6,
   "metadata": {},
   "outputs": [
    {
     "data": {
      "text/html": [
       "<div>\n",
       "<style scoped>\n",
       "    .dataframe tbody tr th:only-of-type {\n",
       "        vertical-align: middle;\n",
       "    }\n",
       "\n",
       "    .dataframe tbody tr th {\n",
       "        vertical-align: top;\n",
       "    }\n",
       "\n",
       "    .dataframe thead th {\n",
       "        text-align: right;\n",
       "    }\n",
       "</style>\n",
       "<table border=\"1\" class=\"dataframe\">\n",
       "  <thead>\n",
       "    <tr style=\"text-align: right;\">\n",
       "      <th></th>\n",
       "      <th>val_dom</th>\n",
       "      <th>val_res</th>\n",
       "      <th>val_dom_res</th>\n",
       "      <th>cons_ppisp</th>\n",
       "      <th>pinup</th>\n",
       "      <th>promate</th>\n",
       "      <th>meta_ppisp</th>\n",
       "      <th>meta_predict</th>\n",
       "    </tr>\n",
       "  </thead>\n",
       "  <tbody>\n",
       "    <tr>\n",
       "      <th>106624</th>\n",
       "      <td>1lvaA02</td>\n",
       "      <td>505</td>\n",
       "      <td>1lvaA02_505</td>\n",
       "      <td>0.009</td>\n",
       "      <td>0.0</td>\n",
       "      <td>0.0</td>\n",
       "      <td>-0.170</td>\n",
       "      <td>0</td>\n",
       "    </tr>\n",
       "    <tr>\n",
       "      <th>30572</th>\n",
       "      <td>1dleA02</td>\n",
       "      <td>186B</td>\n",
       "      <td>1dleA02_186B</td>\n",
       "      <td>0.009</td>\n",
       "      <td>0.0</td>\n",
       "      <td>0.0</td>\n",
       "      <td>-0.167</td>\n",
       "      <td>0</td>\n",
       "    </tr>\n",
       "    <tr>\n",
       "      <th>19029</th>\n",
       "      <td>1cc5A00</td>\n",
       "      <td>87</td>\n",
       "      <td>1cc5A00_87</td>\n",
       "      <td>0.008</td>\n",
       "      <td>0.0</td>\n",
       "      <td>0.0</td>\n",
       "      <td>-0.166</td>\n",
       "      <td>0</td>\n",
       "    </tr>\n",
       "    <tr>\n",
       "      <th>30574</th>\n",
       "      <td>1dleA02</td>\n",
       "      <td>186D</td>\n",
       "      <td>1dleA02_186D</td>\n",
       "      <td>0.003</td>\n",
       "      <td>0.0</td>\n",
       "      <td>0.0</td>\n",
       "      <td>-0.157</td>\n",
       "      <td>0</td>\n",
       "    </tr>\n",
       "    <tr>\n",
       "      <th>30612</th>\n",
       "      <td>1dleA02</td>\n",
       "      <td>220I</td>\n",
       "      <td>1dleA02_220I</td>\n",
       "      <td>0.215</td>\n",
       "      <td>0.0</td>\n",
       "      <td>0.0</td>\n",
       "      <td>-0.152</td>\n",
       "      <td>0</td>\n",
       "    </tr>\n",
       "  </tbody>\n",
       "</table>\n",
       "</div>"
      ],
      "text/plain": [
       "        val_dom val_res   val_dom_res  cons_ppisp  pinup  promate  meta_ppisp  \\\n",
       "106624  1lvaA02     505   1lvaA02_505       0.009    0.0      0.0      -0.170   \n",
       "30572   1dleA02    186B  1dleA02_186B       0.009    0.0      0.0      -0.167   \n",
       "19029   1cc5A00      87    1cc5A00_87       0.008    0.0      0.0      -0.166   \n",
       "30574   1dleA02    186D  1dleA02_186D       0.003    0.0      0.0      -0.157   \n",
       "30612   1dleA02    220I  1dleA02_220I       0.215    0.0      0.0      -0.152   \n",
       "\n",
       "        meta_predict  \n",
       "106624             0  \n",
       "30572              0  \n",
       "19029              0  \n",
       "30574              0  \n",
       "30612              0  "
      ]
     },
     "execution_count": 6,
     "metadata": {},
     "output_type": "execute_result"
    }
   ],
   "source": [
    "validation_set_metappisp = pd.read_csv('Meta-ppisp.results.tsv', names=['val_dom', 'val_res', 'val_dom_res', 'cons_ppisp', 'pinup', 'promate', 'meta_ppisp', 'meta_predict'], sep = '\\t')\n",
    "validation_set_metappisp['cons_ppisp'] = validation_set_metappisp['cons_ppisp'].fillna(0)\n",
    "validation_set_metappisp['pinup'] = validation_set_metappisp['pinup'].fillna(0)\n",
    "validation_set_metappisp['promate'] = validation_set_metappisp['promate'].fillna(0)\n",
    "validation_set_metappisp['meta_ppisp'] = validation_set_metappisp['meta_ppisp'].fillna(0)\n",
    "validation_set_metappisp['meta_predict'] = validation_set_metappisp['meta_predict'].fillna(0)\n",
    "validation_set_metappisp.sort_values('meta_ppisp').head(5)"
   ]
  },
  {
   "cell_type": "code",
   "execution_count": 7,
   "metadata": {},
   "outputs": [],
   "source": [
    "validation_set_metappisp=validation_set_metappisp.dropna()\n",
    "validation_set_metappisp.groupby(['val_dom']).size().shape[0]\n",
    "validation_domlist = validation_set_metappisp.val_dom.unique().tolist()"
   ]
  },
  {
   "cell_type": "code",
   "execution_count": 8,
   "metadata": {},
   "outputs": [
    {
     "data": {
      "text/plain": [
       "2746"
      ]
     },
     "execution_count": 8,
     "metadata": {},
     "output_type": "execute_result"
    }
   ],
   "source": [
    "training_data=raw_feature_data[~raw_feature_data['domain'].isin(validation_domlist)]\n",
    "training_data.groupby(['domain']).size().shape[0]"
   ]
  },
  {
   "cell_type": "code",
   "execution_count": 9,
   "metadata": {},
   "outputs": [
    {
     "data": {
      "text/plain": [
       "756"
      ]
     },
     "execution_count": 9,
     "metadata": {},
     "output_type": "execute_result"
    }
   ],
   "source": [
    "validation_data=raw_feature_data[raw_feature_data['domain'].isin(validation_domlist)]\n",
    "validation_data.groupby(['domain']).size().shape[0]"
   ]
  },
  {
   "cell_type": "code",
   "execution_count": 10,
   "metadata": {},
   "outputs": [
    {
     "data": {
      "text/html": [
       "<div>\n",
       "<style scoped>\n",
       "    .dataframe tbody tr th:only-of-type {\n",
       "        vertical-align: middle;\n",
       "    }\n",
       "\n",
       "    .dataframe tbody tr th {\n",
       "        vertical-align: top;\n",
       "    }\n",
       "\n",
       "    .dataframe thead th {\n",
       "        text-align: right;\n",
       "    }\n",
       "</style>\n",
       "<table border=\"1\" class=\"dataframe\">\n",
       "  <thead>\n",
       "    <tr style=\"text-align: right;\">\n",
       "      <th></th>\n",
       "      <th>index</th>\n",
       "      <th>A_pssm_ff</th>\n",
       "      <th>A_pssm_psiblast</th>\n",
       "      <th>A_wop_ff</th>\n",
       "      <th>A_wop_psiblast</th>\n",
       "      <th>C_pssm_ff</th>\n",
       "      <th>C_pssm_psiblast</th>\n",
       "      <th>C_wop_ff</th>\n",
       "      <th>C_wop_psiblast</th>\n",
       "      <th>D_pssm_ff</th>\n",
       "      <th>...</th>\n",
       "      <th>dssp_type_H</th>\n",
       "      <th>dssp_type_NO_PRED</th>\n",
       "      <th>dssp_type_T</th>\n",
       "      <th>val_dom</th>\n",
       "      <th>val_res</th>\n",
       "      <th>cons_ppisp</th>\n",
       "      <th>pinup</th>\n",
       "      <th>promate</th>\n",
       "      <th>meta_ppisp</th>\n",
       "      <th>meta_predict</th>\n",
       "    </tr>\n",
       "  </thead>\n",
       "  <tbody>\n",
       "    <tr>\n",
       "      <th>0</th>\n",
       "      <td>12asA00_10</td>\n",
       "      <td>-2.0</td>\n",
       "      <td>-2.0</td>\n",
       "      <td>1.0</td>\n",
       "      <td>0.0</td>\n",
       "      <td>-4.0</td>\n",
       "      <td>-4.0</td>\n",
       "      <td>0.0</td>\n",
       "      <td>0.0</td>\n",
       "      <td>-1.0</td>\n",
       "      <td>...</td>\n",
       "      <td>1</td>\n",
       "      <td>0</td>\n",
       "      <td>0</td>\n",
       "      <td>12asA00</td>\n",
       "      <td>10</td>\n",
       "      <td>0.012</td>\n",
       "      <td>0.49</td>\n",
       "      <td>0.292</td>\n",
       "      <td>0.332</td>\n",
       "      <td>0</td>\n",
       "    </tr>\n",
       "    <tr>\n",
       "      <th>1</th>\n",
       "      <td>12asA00_100</td>\n",
       "      <td>-5.0</td>\n",
       "      <td>-3.0</td>\n",
       "      <td>0.0</td>\n",
       "      <td>0.0</td>\n",
       "      <td>-7.0</td>\n",
       "      <td>-5.0</td>\n",
       "      <td>0.0</td>\n",
       "      <td>0.0</td>\n",
       "      <td>-5.0</td>\n",
       "      <td>...</td>\n",
       "      <td>0</td>\n",
       "      <td>1</td>\n",
       "      <td>0</td>\n",
       "      <td>12asA00</td>\n",
       "      <td>100</td>\n",
       "      <td>0.243</td>\n",
       "      <td>0.09</td>\n",
       "      <td>0.316</td>\n",
       "      <td>0.136</td>\n",
       "      <td>0</td>\n",
       "    </tr>\n",
       "    <tr>\n",
       "      <th>2</th>\n",
       "      <td>12asA00_101</td>\n",
       "      <td>1.0</td>\n",
       "      <td>-2.0</td>\n",
       "      <td>12.0</td>\n",
       "      <td>0.0</td>\n",
       "      <td>-5.0</td>\n",
       "      <td>-4.0</td>\n",
       "      <td>0.0</td>\n",
       "      <td>0.0</td>\n",
       "      <td>-4.0</td>\n",
       "      <td>...</td>\n",
       "      <td>0</td>\n",
       "      <td>0</td>\n",
       "      <td>1</td>\n",
       "      <td>12asA00</td>\n",
       "      <td>101</td>\n",
       "      <td>0.798</td>\n",
       "      <td>0.19</td>\n",
       "      <td>0.308</td>\n",
       "      <td>0.275</td>\n",
       "      <td>0</td>\n",
       "    </tr>\n",
       "    <tr>\n",
       "      <th>3</th>\n",
       "      <td>12asA00_102</td>\n",
       "      <td>-5.0</td>\n",
       "      <td>-3.0</td>\n",
       "      <td>0.0</td>\n",
       "      <td>1.0</td>\n",
       "      <td>1.0</td>\n",
       "      <td>-4.0</td>\n",
       "      <td>3.0</td>\n",
       "      <td>0.0</td>\n",
       "      <td>8.0</td>\n",
       "      <td>...</td>\n",
       "      <td>0</td>\n",
       "      <td>0</td>\n",
       "      <td>1</td>\n",
       "      <td>12asA00</td>\n",
       "      <td>102</td>\n",
       "      <td>0.346</td>\n",
       "      <td>0.09</td>\n",
       "      <td>0.296</td>\n",
       "      <td>0.151</td>\n",
       "      <td>0</td>\n",
       "    </tr>\n",
       "    <tr>\n",
       "      <th>4</th>\n",
       "      <td>12asA00_103</td>\n",
       "      <td>-4.0</td>\n",
       "      <td>-2.0</td>\n",
       "      <td>0.0</td>\n",
       "      <td>0.0</td>\n",
       "      <td>-6.0</td>\n",
       "      <td>-5.0</td>\n",
       "      <td>0.0</td>\n",
       "      <td>0.0</td>\n",
       "      <td>1.0</td>\n",
       "      <td>...</td>\n",
       "      <td>0</td>\n",
       "      <td>1</td>\n",
       "      <td>0</td>\n",
       "      <td>12asA00</td>\n",
       "      <td>103</td>\n",
       "      <td>0.055</td>\n",
       "      <td>0.09</td>\n",
       "      <td>0.319</td>\n",
       "      <td>0.157</td>\n",
       "      <td>0</td>\n",
       "    </tr>\n",
       "  </tbody>\n",
       "</table>\n",
       "<p>5 rows × 208 columns</p>\n",
       "</div>"
      ],
      "text/plain": [
       "         index  A_pssm_ff  A_pssm_psiblast  A_wop_ff  A_wop_psiblast  \\\n",
       "0   12asA00_10       -2.0             -2.0       1.0             0.0   \n",
       "1  12asA00_100       -5.0             -3.0       0.0             0.0   \n",
       "2  12asA00_101        1.0             -2.0      12.0             0.0   \n",
       "3  12asA00_102       -5.0             -3.0       0.0             1.0   \n",
       "4  12asA00_103       -4.0             -2.0       0.0             0.0   \n",
       "\n",
       "   C_pssm_ff  C_pssm_psiblast  C_wop_ff  C_wop_psiblast  D_pssm_ff  ...  \\\n",
       "0       -4.0             -4.0       0.0             0.0       -1.0  ...   \n",
       "1       -7.0             -5.0       0.0             0.0       -5.0  ...   \n",
       "2       -5.0             -4.0       0.0             0.0       -4.0  ...   \n",
       "3        1.0             -4.0       3.0             0.0        8.0  ...   \n",
       "4       -6.0             -5.0       0.0             0.0        1.0  ...   \n",
       "\n",
       "   dssp_type_H  dssp_type_NO_PRED  dssp_type_T  val_dom  val_res  cons_ppisp  \\\n",
       "0            1                  0            0  12asA00       10       0.012   \n",
       "1            0                  1            0  12asA00      100       0.243   \n",
       "2            0                  0            1  12asA00      101       0.798   \n",
       "3            0                  0            1  12asA00      102       0.346   \n",
       "4            0                  1            0  12asA00      103       0.055   \n",
       "\n",
       "   pinup  promate  meta_ppisp  meta_predict  \n",
       "0   0.49    0.292       0.332             0  \n",
       "1   0.09    0.316       0.136             0  \n",
       "2   0.19    0.308       0.275             0  \n",
       "3   0.09    0.296       0.151             0  \n",
       "4   0.09    0.319       0.157             0  \n",
       "\n",
       "[5 rows x 208 columns]"
      ]
     },
     "execution_count": 10,
     "metadata": {},
     "output_type": "execute_result"
    }
   ],
   "source": [
    "validation_data_ppisp = validation_data.set_index('residue_string').join(validation_set_metappisp.set_index('val_dom_res'), how = 'inner')\n",
    "validation_data_ppisp = validation_data_ppisp.reset_index()\n",
    "validation_data_ppisp.head(5)"
   ]
  },
  {
   "cell_type": "code",
   "execution_count": 11,
   "metadata": {},
   "outputs": [
    {
     "name": "stderr",
     "output_type": "stream",
     "text": [
      "/Users/sayonidas/anaconda/lib/python3.6/site-packages/ipykernel_launcher.py:4: SettingWithCopyWarning: \n",
      "A value is trying to be set on a copy of a slice from a DataFrame.\n",
      "Try using .loc[row_indexer,col_indexer] = value instead\n",
      "\n",
      "See the caveats in the documentation: http://pandas.pydata.org/pandas-docs/stable/indexing.html#indexing-view-versus-copy\n",
      "  after removing the cwd from sys.path.\n",
      "/Users/sayonidas/anaconda/lib/python3.6/site-packages/ipykernel_launcher.py:5: SettingWithCopyWarning: \n",
      "A value is trying to be set on a copy of a slice from a DataFrame.\n",
      "Try using .loc[row_indexer,col_indexer] = value instead\n",
      "\n",
      "See the caveats in the documentation: http://pandas.pydata.org/pandas-docs/stable/indexing.html#indexing-view-versus-copy\n",
      "  \"\"\"\n"
     ]
    }
   ],
   "source": [
    "SITE_data = training_data[(training_data.annotation_IBIS_PPI_INTERCHAIN == 1) ]#\n",
    "site_doms = SITE_data.domain.unique()\n",
    "NOSITE_data = training_data[(training_data.annotation_IBIS_PPI_INTERCHAIN == 0) & training_data.domain.isin(site_doms)]\n",
    "SITE_data['index']=SITE_data['residue_string']\n",
    "NOSITE_data['index']=NOSITE_data['residue_string']"
   ]
  },
  {
   "cell_type": "code",
   "execution_count": 12,
   "metadata": {},
   "outputs": [],
   "source": [
    "def preprocess_site_nonsite_df(site_data, nonsite_data, ratio):\n",
    "        \n",
    "    # Get the list of domains that have site annotations\n",
    "    positive_sample_num = site_data.shape[0]\n",
    "    print('#Postive samples:',positive_sample_num)\n",
    "    \n",
    "    # make a subset dataframe containing only NOSITE (negative) residues\n",
    "    negative_sample_num = nonsite_data.shape[0]\n",
    "    print('#Negative samples:',negative_sample_num)\n",
    "    \n",
    "    print ('Use these samples for training the model:')\n",
    "    use_sample_num = positive_sample_num * ratio\n",
    "        \n",
    "    if (use_sample_num > negative_sample_num):\n",
    "        use_sample_num = negative_sample_num\n",
    "    \n",
    "    total_samples = use_sample_num + positive_sample_num\n",
    "    \n",
    "    print ('- Used negative samples:',use_sample_num)\n",
    "    print ('- Total samples:',total_samples)\n",
    "    \n",
    "    dom_groups_df = nonsite_data.groupby(['domain']).size()\n",
    "    dom_group_num = dom_groups_df.shape[0]\n",
    "    print ('- No. of groups of samples:',dom_group_num)\n",
    "    \n",
    "    sample_size = round(use_sample_num/dom_group_num)\n",
    "\n",
    "    print ('- Min. sample size in no_sites:', sample_size)\n",
    "    \n",
    "    nonsite_data = nonsite_data.groupby(['domain']).filter(lambda x: len(x) > sample_size)\n",
    "    nonsite_data_randomsubset=nonsite_data.groupby('domain').apply(lambda x: x.sample(n=sample_size, random_state=10)).reset_index(drop=True)\n",
    "    \n",
    "    # COMBINE selected csa and non-csa data for the desired dataset ratio\n",
    "    frames = [site_data, nonsite_data_randomsubset]\n",
    "    concatenated_feature_data = pd.concat(frames)\n",
    "    dataset_sample_num = concatenated_feature_data.shape[0]\n",
    "    feature_data_ML = concatenated_feature_data.set_index('index').sample(n=dataset_sample_num, random_state=10)\n",
    "    feature_data_ML.index.name = None\n",
    "    \n",
    "    return(feature_data_ML)"
   ]
  },
  {
   "cell_type": "code",
   "execution_count": 13,
   "metadata": {},
   "outputs": [
    {
     "name": "stdout",
     "output_type": "stream",
     "text": [
      "#Postive samples: 61653\n",
      "#Negative samples: 238156\n",
      "Use these samples for training the model:\n",
      "- Used negative samples: 238156\n",
      "- Total samples: 299809\n",
      "- No. of groups of samples: 1850\n",
      "- Min. sample size in no_sites: 129\n"
     ]
    }
   ],
   "source": [
    "training_data_ML = preprocess_site_nonsite_df(SITE_data, NOSITE_data, 4)"
   ]
  },
  {
   "cell_type": "code",
   "execution_count": 14,
   "metadata": {},
   "outputs": [
    {
     "data": {
      "text/plain": [
       "(159822, 201)"
      ]
     },
     "execution_count": 14,
     "metadata": {},
     "output_type": "execute_result"
    }
   ],
   "source": [
    "training_data_ML = training_data_ML.drop_duplicates()\n",
    "training_data_ML.shape"
   ]
  },
  {
   "cell_type": "code",
   "execution_count": 15,
   "metadata": {},
   "outputs": [],
   "source": [
    "SITE_data_val = validation_data_ppisp[(validation_data_ppisp.annotation_IBIS_PPI_INTERCHAIN == 1) ]\n",
    "site_doms_val = SITE_data_val.domain.unique()\n",
    "NOSITE_data_val = validation_data_ppisp[(validation_data_ppisp.annotation_IBIS_PPI_INTERCHAIN == 0 ) & (validation_data_ppisp.domain.isin(site_doms_val)) ]"
   ]
  },
  {
   "cell_type": "code",
   "execution_count": 16,
   "metadata": {},
   "outputs": [
    {
     "name": "stdout",
     "output_type": "stream",
     "text": [
      "#Postive samples: 16278\n",
      "#Negative samples: 59992\n",
      "Use these samples for training the model:\n",
      "- Used negative samples: 59992\n",
      "- Total samples: 76270\n",
      "- No. of groups of samples: 489\n",
      "- Min. sample size in no_sites: 123\n"
     ]
    }
   ],
   "source": [
    "validation_data_ML = preprocess_site_nonsite_df(SITE_data_val, NOSITE_data_val, 4)"
   ]
  },
  {
   "cell_type": "code",
   "execution_count": 17,
   "metadata": {},
   "outputs": [
    {
     "data": {
      "text/plain": [
       "489"
      ]
     },
     "execution_count": 17,
     "metadata": {},
     "output_type": "execute_result"
    }
   ],
   "source": [
    "validation_data_ML.groupby(['domain']).size().shape[0]"
   ]
  },
  {
   "cell_type": "code",
   "execution_count": 18,
   "metadata": {},
   "outputs": [
    {
     "data": {
      "text/plain": [
       "(40140, 207)"
      ]
     },
     "execution_count": 18,
     "metadata": {},
     "output_type": "execute_result"
    }
   ],
   "source": [
    "validation_data_ML =validation_data_ML.drop_duplicates()\n",
    "validation_data_ML.shape"
   ]
  },
  {
   "cell_type": "code",
   "execution_count": 19,
   "metadata": {},
   "outputs": [],
   "source": [
    "training_data_ML.to_csv('PPI_training_dataset.csv', index=False)\n",
    "validation_data_ML.to_csv('PPI_validation_dataset.csv', index=False)"
   ]
  }
 ],
 "metadata": {
  "kernelspec": {
   "display_name": "Python 3",
   "language": "python",
   "name": "python3"
  },
  "language_info": {
   "codemirror_mode": {
    "name": "ipython",
    "version": 3
   },
   "file_extension": ".py",
   "mimetype": "text/x-python",
   "name": "python",
   "nbconvert_exporter": "python",
   "pygments_lexer": "ipython3",
   "version": "3.6.8"
  }
 },
 "nbformat": 4,
 "nbformat_minor": 2
}
