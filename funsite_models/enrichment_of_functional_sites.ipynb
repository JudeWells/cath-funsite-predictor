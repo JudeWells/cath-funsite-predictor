{
 "cells": [
  {
   "cell_type": "code",
   "execution_count": 1,
   "metadata": {},
   "outputs": [],
   "source": [
    "# conventional way to import pandas\n",
    "import pandas as pd\n",
    "import numpy as np\n",
    "import pickle\n",
    "try:
    from sklearn.externals import joblib
except ImportError:
    import joblib\n",
    "from collections import OrderedDict\n",
    "import matplotlib.pyplot as plt\n",
    "\n",
    "import matplotlib.pyplot as plt\n",
    "import warnings\n",
    "import seaborn as sns\n",
    "sns.despine()\n",
    "\n",
    "plt.rcdefaults()\n",
    "plt.rcParams['figure.figsize'] = (7.0, 6.0)\n",
    "plt.rcParams['axes.facecolor']='white'"
   ]
  },
  {
   "cell_type": "markdown",
   "metadata": {},
   "source": [
    "## Load all datasets - CSA, LIG and PPI for conservation analysis"
   ]
  },
  {
   "cell_type": "code",
   "execution_count": 33,
   "metadata": {},
   "outputs": [],
   "source": [
    "csa_df = pd.read_csv('../datasets/CS/CS_feature_table.csv')\n",
    "\n",
    "csa_df=csa_df.drop_duplicates('residue_string')\n",
    "csa_df['domain'], csa_df['domain_residue'] = csa_df['residue_string'].str.split('_', 1).str\n",
    "\n",
    "redundant_domains=['1n2cF00', '1g64B00', '1xs1C00', '1c4tC00', '1ax4B02']\n",
    "csa_df=csa_df[~csa_df['domain'].isin(redundant_domains)]\n",
    "\n",
    "\n",
    "csa_df['LEGEND'] = \"CS\"\n",
    "\n",
    "csa_df.loc[csa_df.annotation_MCSA == 0, 'SITE_LEGEND'] = \"non-site\"\n",
    "csa_df.loc[csa_df.annotation_MCSA == 1, 'SITE_LEGEND'] = \"site\"\n",
    "\n",
    "csa_df.loc[csa_df.annotation_MCSA == 0, 'Site'] = \"non-CS\"\n",
    "csa_df.loc[csa_df.annotation_MCSA == 1, 'Site'] = \"CS\""
   ]
  },
  {
   "cell_type": "code",
   "execution_count": 3,
   "metadata": {},
   "outputs": [],
   "source": [
    "lig_df = pd.read_csv('../datasets/LIG/LIG_feature_table.csv')\n",
    "\n",
    "lig_df=lig_df.drop_duplicates('residue_string')\n",
    "lig_df['domain'], lig_df['domain_residue'] = lig_df['residue_string'].str.split('_', 1).str\n",
    "\n",
    "lig_df['LEGEND'] = \"LIG\"\n",
    "lig_df.loc[lig_df.annotation_BIOLIP == 0, 'SITE_LEGEND'] = \"non-site\"\n",
    "lig_df.loc[lig_df.annotation_BIOLIP == 1, 'SITE_LEGEND'] = \"site\"\n",
    "\n",
    "lig_df.loc[lig_df.annotation_BIOLIP == 0, 'Site'] = \"non-LIG\"\n",
    "lig_df.loc[lig_df.annotation_BIOLIP == 1, 'Site'] = \"LIG\""
   ]
  },
  {
   "cell_type": "code",
   "execution_count": 4,
   "metadata": {},
   "outputs": [],
   "source": [
    "ppi_df = pd.read_csv('../datasets/PPI/PPI_feature_table.csv')\n",
    "\n",
    "ppi_df['domain'], ppi_df['domain_residue'] = ppi_df['residue_string'].str.split('_', 1).str\n",
    "ppi_df = ppi_df.drop_duplicates('residue_string')\n",
    "\n",
    "ppi_df['LEGEND'] = \"PPI\"\n",
    "ppi_df.loc[ppi_df.annotation_PROTINDB == 0, 'SITE_LEGEND'] = \"non-site\"\n",
    "ppi_df.loc[ppi_df.annotation_PROTINDB == 1, 'SITE_LEGEND'] = \"site\"\n",
    "\n",
    "ppi_df.loc[ppi_df.annotation_PROTINDB == 0, 'Site'] = \"non-PPI\"\n",
    "ppi_df.loc[ppi_df.annotation_PROTINDB == 1, 'Site'] = \"PPI\"\n"
   ]
  },
  {
   "cell_type": "code",
   "execution_count": 5,
   "metadata": {},
   "outputs": [
    {
     "data": {
      "text/plain": [
       "(2325, 176)"
      ]
     },
     "execution_count": 5,
     "metadata": {},
     "output_type": "execute_result"
    }
   ],
   "source": [
    "csa_data = csa_df[(csa_df.annotation_MCSA == 1)]\n",
    "csa_data.shape"
   ]
  },
  {
   "cell_type": "code",
   "execution_count": 6,
   "metadata": {},
   "outputs": [
    {
     "data": {
      "text/plain": [
       "(20031, 176)"
      ]
     },
     "execution_count": 6,
     "metadata": {},
     "output_type": "execute_result"
    }
   ],
   "source": [
    "biolip_data = lig_df[(lig_df.annotation_BIOLIP == 1)]\n",
    "biolip_data.shape"
   ]
  },
  {
   "cell_type": "code",
   "execution_count": 7,
   "metadata": {},
   "outputs": [
    {
     "data": {
      "text/plain": [
       "(131838, 176)"
      ]
     },
     "execution_count": 7,
     "metadata": {},
     "output_type": "execute_result"
    }
   ],
   "source": [
    "ibis_data = ppi_df[(ppi_df.annotation_IBIS_PPI_INTERCHAIN == 1)| (ppi_df.annotation_IBIS_PPI_INTRACHAIN == 1)]\n",
    "ibis_data.shape"
   ]
  },
  {
   "cell_type": "code",
   "execution_count": 8,
   "metadata": {},
   "outputs": [
    {
     "data": {
      "text/plain": [
       "(80393, 176)"
      ]
     },
     "execution_count": 8,
     "metadata": {},
     "output_type": "execute_result"
    }
   ],
   "source": [
    "ibis_interppi = ppi_df[(ppi_df.annotation_IBIS_PPI_INTERCHAIN == 1)]\n",
    "ibis_interppi.shape"
   ]
  },
  {
   "cell_type": "code",
   "execution_count": 9,
   "metadata": {},
   "outputs": [
    {
     "name": "stderr",
     "output_type": "stream",
     "text": [
      "/Users/sayonidas/anaconda/lib/python3.6/site-packages/ipykernel_launcher.py:2: SettingWithCopyWarning: \n",
      "A value is trying to be set on a copy of a slice from a DataFrame.\n",
      "Try using .loc[row_indexer,col_indexer] = value instead\n",
      "\n",
      "See the caveats in the documentation: http://pandas.pydata.org/pandas-docs/stable/indexing.html#indexing-view-versus-copy\n",
      "  \n",
      "/Users/sayonidas/anaconda/lib/python3.6/site-packages/ipykernel_launcher.py:4: SettingWithCopyWarning: \n",
      "A value is trying to be set on a copy of a slice from a DataFrame.\n",
      "Try using .loc[row_indexer,col_indexer] = value instead\n",
      "\n",
      "See the caveats in the documentation: http://pandas.pydata.org/pandas-docs/stable/indexing.html#indexing-view-versus-copy\n",
      "  after removing the cwd from sys.path.\n",
      "/Users/sayonidas/anaconda/lib/python3.6/site-packages/ipykernel_launcher.py:6: SettingWithCopyWarning: \n",
      "A value is trying to be set on a copy of a slice from a DataFrame.\n",
      "Try using .loc[row_indexer,col_indexer] = value instead\n",
      "\n",
      "See the caveats in the documentation: http://pandas.pydata.org/pandas-docs/stable/indexing.html#indexing-view-versus-copy\n",
      "  \n"
     ]
    }
   ],
   "source": [
    "#csa_data['CSA_scorecons'] = csa_data['scons']\n",
    "csa_data['LEGEND'] = \"CS\"\n",
    "#biolip_data['LIG_scorecons'] = biolip_data['scons']\n",
    "biolip_data['LEGEND'] = \"LIG\"\n",
    "#did3_data['PPI_scorecons'] = did3_data['scons']\n",
    "ibis_interppi['LEGEND'] = \"PPI\""
   ]
  },
  {
   "cell_type": "markdown",
   "metadata": {},
   "source": [
    "## Combine all annotations for CSA, LIG, PPI residues in all datasets"
   ]
  },
  {
   "cell_type": "code",
   "execution_count": 10,
   "metadata": {},
   "outputs": [
    {
     "data": {
      "text/html": [
       "<div>\n",
       "<style scoped>\n",
       "    .dataframe tbody tr th:only-of-type {\n",
       "        vertical-align: middle;\n",
       "    }\n",
       "\n",
       "    .dataframe tbody tr th {\n",
       "        vertical-align: top;\n",
       "    }\n",
       "\n",
       "    .dataframe thead th {\n",
       "        text-align: right;\n",
       "    }\n",
       "</style>\n",
       "<table border=\"1\" class=\"dataframe\">\n",
       "  <thead>\n",
       "    <tr style=\"text-align: right;\">\n",
       "      <th></th>\n",
       "      <th>residue_string</th>\n",
       "      <th>A_pssm_ff</th>\n",
       "      <th>A_pssm_psiblast</th>\n",
       "      <th>A_wop_ff</th>\n",
       "      <th>A_wop_psiblast</th>\n",
       "      <th>C_pssm_ff</th>\n",
       "      <th>C_pssm_psiblast</th>\n",
       "      <th>C_wop_ff</th>\n",
       "      <th>C_wop_psiblast</th>\n",
       "      <th>D_pssm_ff</th>\n",
       "      <th>...</th>\n",
       "      <th>sc5_scons</th>\n",
       "      <th>scons</th>\n",
       "      <th>surface_residues_struc_neighbourhood</th>\n",
       "      <th>van_der_waals_vol_normalised</th>\n",
       "      <th>Unnamed: 170</th>\n",
       "      <th>domain</th>\n",
       "      <th>domain_residue</th>\n",
       "      <th>LEGEND</th>\n",
       "      <th>SITE_LEGEND</th>\n",
       "      <th>Site</th>\n",
       "    </tr>\n",
       "  </thead>\n",
       "  <tbody>\n",
       "    <tr>\n",
       "      <th>0</th>\n",
       "      <td>1yonA02_168</td>\n",
       "      <td>-5.0</td>\n",
       "      <td>-3.0</td>\n",
       "      <td>0.0</td>\n",
       "      <td>0.0</td>\n",
       "      <td>-7.0</td>\n",
       "      <td>-5.0</td>\n",
       "      <td>0.0</td>\n",
       "      <td>0.0</td>\n",
       "      <td>5.0</td>\n",
       "      <td>...</td>\n",
       "      <td>4</td>\n",
       "      <td>0.538</td>\n",
       "      <td>6</td>\n",
       "      <td>2.95</td>\n",
       "      <td>NaN</td>\n",
       "      <td>1yonA02</td>\n",
       "      <td>168</td>\n",
       "      <td>CS</td>\n",
       "      <td>non-site</td>\n",
       "      <td>non-CS</td>\n",
       "    </tr>\n",
       "    <tr>\n",
       "      <th>1</th>\n",
       "      <td>1yonA02_169</td>\n",
       "      <td>-5.0</td>\n",
       "      <td>-4.0</td>\n",
       "      <td>0.0</td>\n",
       "      <td>0.0</td>\n",
       "      <td>-5.0</td>\n",
       "      <td>-4.0</td>\n",
       "      <td>0.0</td>\n",
       "      <td>0.0</td>\n",
       "      <td>-7.0</td>\n",
       "      <td>...</td>\n",
       "      <td>5</td>\n",
       "      <td>0.737</td>\n",
       "      <td>6</td>\n",
       "      <td>4.00</td>\n",
       "      <td>NaN</td>\n",
       "      <td>1yonA02</td>\n",
       "      <td>169</td>\n",
       "      <td>CS</td>\n",
       "      <td>non-site</td>\n",
       "      <td>non-CS</td>\n",
       "    </tr>\n",
       "  </tbody>\n",
       "</table>\n",
       "<p>2 rows × 176 columns</p>\n",
       "</div>"
      ],
      "text/plain": [
       "  residue_string  A_pssm_ff  A_pssm_psiblast  A_wop_ff  A_wop_psiblast  \\\n",
       "0    1yonA02_168       -5.0             -3.0       0.0             0.0   \n",
       "1    1yonA02_169       -5.0             -4.0       0.0             0.0   \n",
       "\n",
       "   C_pssm_ff  C_pssm_psiblast  C_wop_ff  C_wop_psiblast  D_pssm_ff  ...  \\\n",
       "0       -7.0             -5.0       0.0             0.0        5.0  ...   \n",
       "1       -5.0             -4.0       0.0             0.0       -7.0  ...   \n",
       "\n",
       "   sc5_scons  scons  surface_residues_struc_neighbourhood  \\\n",
       "0          4  0.538                                     6   \n",
       "1          5  0.737                                     6   \n",
       "\n",
       "   van_der_waals_vol_normalised  Unnamed: 170   domain  domain_residue  \\\n",
       "0                          2.95           NaN  1yonA02             168   \n",
       "1                          4.00           NaN  1yonA02             169   \n",
       "\n",
       "   LEGEND  SITE_LEGEND    Site  \n",
       "0      CS     non-site  non-CS  \n",
       "1      CS     non-site  non-CS  \n",
       "\n",
       "[2 rows x 176 columns]"
      ]
     },
     "execution_count": 10,
     "metadata": {},
     "output_type": "execute_result"
    }
   ],
   "source": [
    "frames = [csa_df, lig_df, ppi_df]\n",
    "result = pd.concat(frames)\n",
    "result.head(2)"
   ]
  },
  {
   "cell_type": "code",
   "execution_count": 11,
   "metadata": {},
   "outputs": [],
   "source": [
    "domain_list = result.domain.unique().tolist()"
   ]
  },
  {
   "cell_type": "code",
   "execution_count": 12,
   "metadata": {},
   "outputs": [
    {
     "data": {
      "text/plain": [
       "5048"
      ]
     },
     "execution_count": 12,
     "metadata": {},
     "output_type": "execute_result"
    }
   ],
   "source": [
    "# find uniq domains for annotating surface_nonsite residues\n",
    "nr_domains = []\n",
    "\n",
    "# open file and read the content in a list\n",
    "with open('domain_uniq_cath_assignments.txt', 'r') as filehandle:  \n",
    "    for line in filehandle:\n",
    "        # remove linebreak which is the last character of the string\n",
    "        currentPlace = line[:-1]\n",
    "        # add item to the list\n",
    "        nr_domains.append(currentPlace)\n",
    "        \n",
    "len(nr_domains)"
   ]
  },
  {
   "cell_type": "code",
   "execution_count": 13,
   "metadata": {},
   "outputs": [
    {
     "data": {
      "text/plain": [
       "(864906, 176)"
      ]
     },
     "execution_count": 13,
     "metadata": {},
     "output_type": "execute_result"
    }
   ],
   "source": [
    "nr_domain_data=result[result['domain'].isin(nr_domains)]\n",
    "nr_domain_data.shape"
   ]
  },
  {
   "cell_type": "markdown",
   "metadata": {},
   "source": [
    "#### Note: We use only IBIS PPI annotations to define True positives for PPI sites.\n",
    "#### But for defining Non-surface sites - we remove any predicted ppi sites from IBIS, proteindb, 3DID as well"
   ]
  },
  {
   "cell_type": "code",
   "execution_count": 14,
   "metadata": {},
   "outputs": [
    {
     "name": "stderr",
     "output_type": "stream",
     "text": [
      "/Users/sayonidas/anaconda/lib/python3.6/site-packages/ipykernel_launcher.py:2: SettingWithCopyWarning: \n",
      "A value is trying to be set on a copy of a slice from a DataFrame.\n",
      "Try using .loc[row_indexer,col_indexer] = value instead\n",
      "\n",
      "See the caveats in the documentation: http://pandas.pydata.org/pandas-docs/stable/indexing.html#indexing-view-versus-copy\n",
      "  \n",
      "/Users/sayonidas/anaconda/lib/python3.6/site-packages/pandas/core/indexing.py:543: SettingWithCopyWarning: \n",
      "A value is trying to be set on a copy of a slice from a DataFrame.\n",
      "Try using .loc[row_indexer,col_indexer] = value instead\n",
      "\n",
      "See the caveats in the documentation: http://pandas.pydata.org/pandas-docs/stable/indexing.html#indexing-view-versus-copy\n",
      "  self.obj[item] = s\n",
      "/Users/sayonidas/anaconda/lib/python3.6/site-packages/ipykernel_launcher.py:4: SettingWithCopyWarning: \n",
      "A value is trying to be set on a copy of a slice from a DataFrame.\n",
      "Try using .loc[row_indexer,col_indexer] = value instead\n",
      "\n",
      "See the caveats in the documentation: http://pandas.pydata.org/pandas-docs/stable/indexing.html#indexing-view-versus-copy\n",
      "  after removing the cwd from sys.path.\n"
     ]
    },
    {
     "data": {
      "text/plain": [
       "(672588, 177)"
      ]
     },
     "execution_count": 14,
     "metadata": {},
     "output_type": "execute_result"
    }
   ],
   "source": [
    "nonsite_nr_data = nr_domain_data[(nr_domain_data.annotation_IBIS_PPI_INTERCHAIN == 0) & (nr_domain_data.annotation_IBIS_PPI_INTRACHAIN == 0) & (nr_domain_data.annotation_3DID_INTERCHAIN == 0) & (nr_domain_data.annotation_3DID_INTRACHAIN == 0) & (nr_domain_data.annotation_BIOLIP == 0) & (nr_domain_data.annotation_MCSA == 0)]\n",
    "nonsite_nr_data['LEGEND']= \"buried_NS\"\n",
    "nonsite_nr_data.loc[nonsite_nr_data.rsa_allatoms >= 10, 'LEGEND'] = \"surface_NS\"\n",
    "nonsite_nr_data['surface_residue_rsa'] = (nonsite_nr_data['rsa_allatoms'] >= 10).astype(int)\n",
    "nonsite_nr_data.shape"
   ]
  },
  {
   "cell_type": "code",
   "execution_count": 15,
   "metadata": {},
   "outputs": [
    {
     "data": {
      "text/plain": [
       "(451435, 176)"
      ]
     },
     "execution_count": 15,
     "metadata": {},
     "output_type": "execute_result"
    }
   ],
   "source": [
    "nonsite_surface_nr_data = nonsite_nr_data[(nonsite_nr_data.surface_residue_rsa == 1)]\n",
    "nonsite_surface_nr_data = nonsite_surface_nr_data.drop(['surface_residue_rsa'], axis =1)\n",
    "nonsite_surface_nr_data.shape"
   ]
  },
  {
   "cell_type": "code",
   "execution_count": 16,
   "metadata": {},
   "outputs": [
    {
     "name": "stderr",
     "output_type": "stream",
     "text": [
      "/Users/sayonidas/anaconda/lib/python3.6/site-packages/ipykernel_launcher.py:2: FutureWarning: Sorting because non-concatenation axis is not aligned. A future version\n",
      "of pandas will change to not sort by default.\n",
      "\n",
      "To accept the future behavior, pass 'sort=False'.\n",
      "\n",
      "To retain the current behavior and silence the warning, pass 'sort=True'.\n",
      "\n",
      "  \n"
     ]
    },
    {
     "data": {
      "text/html": [
       "<div>\n",
       "<style scoped>\n",
       "    .dataframe tbody tr th:only-of-type {\n",
       "        vertical-align: middle;\n",
       "    }\n",
       "\n",
       "    .dataframe tbody tr th {\n",
       "        vertical-align: top;\n",
       "    }\n",
       "\n",
       "    .dataframe thead th {\n",
       "        text-align: right;\n",
       "    }\n",
       "</style>\n",
       "<table border=\"1\" class=\"dataframe\">\n",
       "  <thead>\n",
       "    <tr style=\"text-align: right;\">\n",
       "      <th></th>\n",
       "      <th>A_pssm_ff</th>\n",
       "      <th>A_pssm_psiblast</th>\n",
       "      <th>A_wop_ff</th>\n",
       "      <th>A_wop_psiblast</th>\n",
       "      <th>C_pssm_ff</th>\n",
       "      <th>C_pssm_psiblast</th>\n",
       "      <th>C_wop_ff</th>\n",
       "      <th>C_wop_psiblast</th>\n",
       "      <th>D_pssm_ff</th>\n",
       "      <th>D_pssm_psiblast</th>\n",
       "      <th>...</th>\n",
       "      <th>rsa_mainchain</th>\n",
       "      <th>rsa_nonpolar</th>\n",
       "      <th>rsa_polar</th>\n",
       "      <th>rsa_totside</th>\n",
       "      <th>sc5_gs</th>\n",
       "      <th>sc5_scons</th>\n",
       "      <th>scons</th>\n",
       "      <th>surface_residue_rsa</th>\n",
       "      <th>surface_residues_struc_neighbourhood</th>\n",
       "      <th>van_der_waals_vol_normalised</th>\n",
       "    </tr>\n",
       "  </thead>\n",
       "  <tbody>\n",
       "    <tr>\n",
       "      <th>8</th>\n",
       "      <td>-6.0</td>\n",
       "      <td>-3.0</td>\n",
       "      <td>0.0</td>\n",
       "      <td>0.0</td>\n",
       "      <td>-8.0</td>\n",
       "      <td>-6.0</td>\n",
       "      <td>0.0</td>\n",
       "      <td>0.0</td>\n",
       "      <td>-6.0</td>\n",
       "      <td>-3.0</td>\n",
       "      <td>...</td>\n",
       "      <td>1.9</td>\n",
       "      <td>61.1</td>\n",
       "      <td>57.7</td>\n",
       "      <td>73.0</td>\n",
       "      <td>-1</td>\n",
       "      <td>7</td>\n",
       "      <td>0.998</td>\n",
       "      <td>NaN</td>\n",
       "      <td>7</td>\n",
       "      <td>4.77</td>\n",
       "    </tr>\n",
       "    <tr>\n",
       "      <th>131</th>\n",
       "      <td>-4.0</td>\n",
       "      <td>-4.0</td>\n",
       "      <td>0.0</td>\n",
       "      <td>0.0</td>\n",
       "      <td>-5.0</td>\n",
       "      <td>-5.0</td>\n",
       "      <td>0.0</td>\n",
       "      <td>0.0</td>\n",
       "      <td>-1.0</td>\n",
       "      <td>-1.0</td>\n",
       "      <td>...</td>\n",
       "      <td>0.0</td>\n",
       "      <td>2.8</td>\n",
       "      <td>11.6</td>\n",
       "      <td>11.9</td>\n",
       "      <td>2</td>\n",
       "      <td>9</td>\n",
       "      <td>1.000</td>\n",
       "      <td>NaN</td>\n",
       "      <td>3</td>\n",
       "      <td>2.95</td>\n",
       "    </tr>\n",
       "  </tbody>\n",
       "</table>\n",
       "<p>2 rows × 177 columns</p>\n",
       "</div>"
      ],
      "text/plain": [
       "     A_pssm_ff  A_pssm_psiblast  A_wop_ff  A_wop_psiblast  C_pssm_ff  \\\n",
       "8         -6.0             -3.0       0.0             0.0       -8.0   \n",
       "131       -4.0             -4.0       0.0             0.0       -5.0   \n",
       "\n",
       "     C_pssm_psiblast  C_wop_ff  C_wop_psiblast  D_pssm_ff  D_pssm_psiblast  \\\n",
       "8               -6.0       0.0             0.0       -6.0             -3.0   \n",
       "131             -5.0       0.0             0.0       -1.0             -1.0   \n",
       "\n",
       "     ...  rsa_mainchain  rsa_nonpolar  rsa_polar  rsa_totside  sc5_gs  \\\n",
       "8    ...            1.9          61.1       57.7         73.0      -1   \n",
       "131  ...            0.0           2.8       11.6         11.9       2   \n",
       "\n",
       "     sc5_scons  scons  surface_residue_rsa  \\\n",
       "8            7  0.998                  NaN   \n",
       "131          9  1.000                  NaN   \n",
       "\n",
       "     surface_residues_struc_neighbourhood  van_der_waals_vol_normalised  \n",
       "8                                       7                          4.77  \n",
       "131                                     3                          2.95  \n",
       "\n",
       "[2 rows x 177 columns]"
      ]
     },
     "execution_count": 16,
     "metadata": {},
     "output_type": "execute_result"
    }
   ],
   "source": [
    "frames1 = [csa_data, biolip_data, ibis_interppi, nonsite_nr_data] #nonsite_surface_nr_data\n",
    "result1 = pd.concat(frames1)\n",
    "result1 = result1.drop_duplicates(['residue_string'])\n",
    "result1.head(2)"
   ]
  },
  {
   "cell_type": "code",
   "execution_count": 17,
   "metadata": {},
   "outputs": [
    {
     "name": "stdout",
     "output_type": "stream",
     "text": [
      "(2325, 176)\n",
      "(20031, 176)\n",
      "(80393, 176)\n",
      "(672588, 177)\n"
     ]
    }
   ],
   "source": [
    "print(csa_data.shape)\n",
    "print(biolip_data.shape)\n",
    "print(ibis_interppi.shape)\n",
    "print(nonsite_nr_data.shape)"
   ]
  },
  {
   "cell_type": "code",
   "execution_count": 18,
   "metadata": {},
   "outputs": [
    {
     "data": {
      "text/plain": [
       "Text(0, 0.5, 'Funfam conservation score')"
      ]
     },
     "execution_count": 18,
     "metadata": {},
     "output_type": "execute_result"
    },
    {
     "data": {
      "image/png": "[encoded data removed]",
      "text/plain": [
       "<Figure size 432x288 with 1 Axes>"
      ]
     },
     "metadata": {
      "needs_background": "light"
     },
     "output_type": "display_data"
    }
   ],
   "source": [
    "result2 = result1[['scons', 'LEGEND']]\n",
    "result2=result2.reset_index()\n",
    "result2 = result2.drop(['index'], axis =1)\n",
    "result2.head(2)\n",
    "\n",
    "sns.violinplot(x=result2.LEGEND, y=result2.scons, palette=[\"tab:blue\", \"tab:green\", \"tab:red\", \"orange\", \"violet\"]);\n",
    "plt.xlabel('')\n",
    "plt.ylabel('Funfam conservation score')\n",
    "#plt.savefig('violinplot_conservation_scores_functional_site_residues.png', dpi=300, bbox_inches='tight')"
   ]
  },
  {
   "cell_type": "code",
   "execution_count": 19,
   "metadata": {},
   "outputs": [
    {
     "data": {
      "text/plain": [
       "Text(0, 0.5, 'Density')"
      ]
     },
     "execution_count": 19,
     "metadata": {},
     "output_type": "execute_result"
    },
    {
     "data": {
      "image/png": "[encoded data removed]",
      "text/plain": [
       "<Figure size 432x288 with 1 Axes>"
      ]
     },
     "metadata": {
      "needs_background": "light"
     },
     "output_type": "display_data"
    }
   ],
   "source": [
    "from scipy.stats import norm\n",
    "\n",
    "sites = ['CS', 'LIG', 'PPI']\n",
    "sites_ns = ['surface_NS', 'buried_NS']\n",
    "\n",
    "colors = [\"tab:blue\", \"tab:green\", \"tab:red\",]\n",
    "c=0\n",
    "\n",
    "# Iterate through sites\n",
    "for site in sites:\n",
    "    # Subset to the site\n",
    "    subset = result2[result2['LEGEND'] == site]\n",
    "    \n",
    "    # Draw the density plot\n",
    "    sns.distplot(subset['scons'], hist = False, kde = True,\n",
    "                 kde_kws = {'linewidth': 2}, color= colors[c],\n",
    "                 label = site)\n",
    "    c=c+1\n",
    "\n",
    "# Iterate through sites_ns\n",
    "colors_ns = ['orange', 'violet']\n",
    "c=0\n",
    "for site in sites_ns:\n",
    "    # Subset to the site\n",
    "    subset = result2[result2['LEGEND'] == site]\n",
    "    \n",
    "    # Draw the density plot\n",
    "    sns.distplot(subset['scons'], hist = False, kde = True,\n",
    "                 kde_kws={'linestyle':'-.','linewidth': 1.5}, color= colors_ns[c],\n",
    "                 label = site)\n",
    "    c=c+1\n",
    "plt.axvspan(0.7, 1.1, alpha=0.3, color='lightgray')\n",
    "\n",
    "# Plot formatting\n",
    "plt.xlabel('Funfam conservation score')\n",
    "plt.ylabel('Density')\n",
    "#plt.savefig('KDE_conservation_scores_functional_site_residues.png', dpi=300, bbox_inches='tight')"
   ]
  },
  {
   "cell_type": "code",
   "execution_count": 32,
   "metadata": {},
   "outputs": [],
   "source": [
    "result1[['domain',\n",
    " 'domain_residue',\n",
    " 'LEGEND', \n",
    " 'dops', 'scons',\n",
    " 'annotation_MCSA',\n",
    " 'annotation_BIOLIP',\n",
    " 'annotation_BIOLIP_ligand',\n",
    " 'annotation_IBIS_LIG',\n",
    " 'annotation_IBIS_PPI_INTERCHAIN',\n",
    " 'annotation_IBIS_PPI_INTRACHAIN',\n",
    " 'annotation_3DID_INTERCHAIN',\n",
    " 'annotation_3DID_INTRACHAIN',\n",
    " 'annotation_PROTINDB',\n",
    " ]].to_csv('Dataset_for_functional_site_conservation.csv')"
   ]
  },
  {
   "cell_type": "code",
   "execution_count": 20,
   "metadata": {},
   "outputs": [
    {
     "data": {
      "text/plain": [
       "<matplotlib.legend.Legend at 0x1a33aeaac8>"
      ]
     },
     "execution_count": 20,
     "metadata": {},
     "output_type": "execute_result"
    },
    {
     "data": {
      "image/png": "[encoded data removed]",
      "text/plain": [
       "<Figure size 432x360 with 1 Axes>"
      ]
     },
     "metadata": {
      "needs_background": "light"
     },
     "output_type": "display_data"
    }
   ],
   "source": [
    "result3 = result2.pivot(columns='LEGEND', values='scons')\n",
    "result3.head(2)\n",
    "\n",
    "plt.rcParams['figure.figsize'] = (6.0, 5.0)\n",
    "result3[[\"CS\", \"LIG\", \"PPI\", \"surface_NS\"]].plot.hist(stacked=True, bins=20)\n",
    "plt.xlabel('Conservation score (Scorecons)')\n",
    "plt.legend()\n",
    "#plt.savefig('stacked_hist_conservation_scores_functional_site_residues.png', dpi=300)"
   ]
  }
 ],
 "metadata": {
  "kernelspec": {
   "display_name": "Python 3",
   "language": "python",
   "name": "python3"
  },
  "language_info": {
   "codemirror_mode": {
    "name": "ipython",
    "version": 3
   },
   "file_extension": ".py",
   "mimetype": "text/x-python",
   "name": "python",
   "nbconvert_exporter": "python",
   "pygments_lexer": "ipython3",
   "version": "3.6.8"
  }
 },
 "nbformat": 4,
 "nbformat_minor": 2
}
